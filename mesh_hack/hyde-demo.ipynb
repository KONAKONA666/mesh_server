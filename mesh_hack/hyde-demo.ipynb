{
 "cells": [
  {
   "attachments": {},
   "cell_type": "markdown",
   "id": "c0a95872",
   "metadata": {},
   "source": []
  },
  {
   "attachments": {},
   "cell_type": "markdown",
   "id": "a1ee489b",
   "metadata": {},
   "source": []
  },
  {
   "cell_type": "code",
   "execution_count": 1,
   "id": "32f69354",
   "metadata": {},
   "outputs": [
    {
     "name": "stderr",
     "output_type": "stream",
     "text": [
      "/opt/conda/lib/python3.8/site-packages/tqdm/auto.py:22: TqdmWarning: IProgress not found. Please update jupyter and ipywidgets. See https://ipywidgets.readthedocs.io/en/stable/user_install.html\n",
      "  from .autonotebook import tqdm as notebook_tqdm\n"
     ]
    }
   ],
   "source": [
    "from dataclasses import dataclass, field\n",
    "from functools import partial\n",
    "from pathlib import Path\n",
    "from tempfile import TemporaryDirectory\n",
    "from typing import List, Optional\n",
    "from datasets import Features, Sequence, Value, load_dataset"
   ]
  },
  {
   "cell_type": "code",
   "execution_count": 2,
   "id": "bf00e30b",
   "metadata": {},
   "outputs": [
    {
     "name": "stdout",
     "output_type": "stream",
     "text": [
      "\n",
      "===================================BUG REPORT===================================\n",
      "Welcome to bitsandbytes. For bug reports, please run\n",
      "\n",
      "python -m bitsandbytes\n",
      "\n",
      " and submit this information together with your error trace to: https://github.com/TimDettmers/bitsandbytes/issues\n",
      "================================================================================\n",
      "bin /opt/conda/lib/python3.8/site-packages/bitsandbytes/libbitsandbytes_cuda117_nocublaslt.so\n",
      "CUDA_SETUP: WARNING! libcudart.so not found in any environmental path. Searching in backup paths...\n",
      "CUDA SETUP: CUDA runtime path found: /usr/local/cuda/lib64/libcudart.so.11.0\n",
      "CUDA SETUP: Highest compute capability among GPUs detected: 7.0\n",
      "CUDA SETUP: Detected CUDA version 117\n",
      "CUDA SETUP: Loading binary /opt/conda/lib/python3.8/site-packages/bitsandbytes/libbitsandbytes_cuda117_nocublaslt.so...\n"
     ]
    },
    {
     "name": "stderr",
     "output_type": "stream",
     "text": [
      "/opt/conda/lib/python3.8/site-packages/bitsandbytes/cuda_setup/main.py:145: UserWarning: /opt/conda did not contain ['libcudart.so', 'libcudart.so.11.0', 'libcudart.so.12.0'] as expected! Searching further paths...\n",
      "  warn(msg)\n",
      "/opt/conda/lib/python3.8/site-packages/bitsandbytes/cuda_setup/main.py:145: UserWarning: WARNING: The following directories listed in your path were found to be non-existent: {PosixPath('/usr/local/nvidia/lib64'), PosixPath('/usr/local/nvidia/lib')}\n",
      "  warn(msg)\n",
      "/opt/conda/lib/python3.8/site-packages/bitsandbytes/cuda_setup/main.py:145: UserWarning: /opt/conda/lib/python3.8/site-packages/torch/lib:/opt/conda/lib/python3.8/site-packages/torch_tensorrt/lib:/usr/local/cuda/compat/lib:/usr/local/nvidia/lib:/usr/local/nvidia/lib64 did not contain ['libcudart.so', 'libcudart.so.11.0', 'libcudart.so.12.0'] as expected! Searching further paths...\n",
      "  warn(msg)\n",
      "/opt/conda/lib/python3.8/site-packages/bitsandbytes/cuda_setup/main.py:145: UserWarning: WARNING: The following directories listed in your path were found to be non-existent: {PosixPath('vs/workbench/api/node/extensionHostProcess')}\n",
      "  warn(msg)\n",
      "/opt/conda/lib/python3.8/site-packages/bitsandbytes/cuda_setup/main.py:145: UserWarning: WARNING: The following directories listed in your path were found to be non-existent: {PosixPath('[\"/tmp/vscode-ssh-auth-39acf041-754c-422c-b747-a918a27bc98f.sock\",\"/tmp/.X11-unix/X2\",\"/root/.gnupg/S.gpg-agent\"]')}\n",
      "  warn(msg)\n",
      "/opt/conda/lib/python3.8/site-packages/bitsandbytes/cuda_setup/main.py:145: UserWarning: WARNING: The following directories listed in your path were found to be non-existent: {PosixPath('module'), PosixPath('//matplotlib_inline.backend_inline')}\n",
      "  warn(msg)\n",
      "/opt/conda/lib/python3.8/site-packages/bitsandbytes/cuda_setup/main.py:145: UserWarning: Found duplicate ['libcudart.so', 'libcudart.so.11.0', 'libcudart.so.12.0'] files: {PosixPath('/usr/local/cuda/lib64/libcudart.so.11.0'), PosixPath('/usr/local/cuda/lib64/libcudart.so')}.. We'll flip a coin and try one of these, in order to fail forward.\n",
      "Either way, this might cause trouble in the future:\n",
      "If you get `CUDA error: invalid device function` errors, the above might be the cause and the solution is to make sure only one ['libcudart.so', 'libcudart.so.11.0', 'libcudart.so.12.0'] in the paths that we search based on your env.\n",
      "  warn(msg)\n",
      "/opt/conda/lib/python3.8/site-packages/bitsandbytes/cuda_setup/main.py:145: UserWarning: WARNING: Compute capability < 7.5 detected! Only slow 8-bit matmul is supported for your GPU!\n",
      "  warn(msg)\n"
     ]
    }
   ],
   "source": [
    "import json\n",
    "from pyserini.search import FaissSearcher, LuceneSearcher\n",
    "from pyserini.search.faiss import AutoQueryEncoder\n",
    "\n",
    "from src.hyde import Promptor, OpenAIGenerator, CohereGenerator, HyDE, AlpacaGenerator"
   ]
  },
  {
   "cell_type": "code",
   "execution_count": 3,
   "id": "7277c02f",
   "metadata": {},
   "outputs": [
    {
     "name": "stderr",
     "output_type": "stream",
     "text": [
      "Found cached dataset csv (/root/.cache/huggingface/datasets/csv/default-b6b3f4ad325a31dd/0.0.0/6954658bab30a358235fa864b05cf819af0e179325c740e4bc853bcc7ec513e1)\n"
     ]
    }
   ],
   "source": [
    "import pandas as pd\n",
    "dataset = load_dataset(\n",
    "        \"csv\", data_files=[\"/workspace/alpaca-lora/dataset_fischer.csv\"], split=\"train\", delimiter=\"\\t\", column_names=[\"title\", \"text\"]\n",
    ")"
   ]
  },
  {
   "cell_type": "code",
   "execution_count": 130,
   "id": "22ae7754",
   "metadata": {},
   "outputs": [],
   "source": [
    "import numpy as np\n",
    "\n",
    "def split_text(text: str, n=1024, character=\" \") -> List[str]:\n",
    "    \"\"\"Split the text every ``n``-th occurrence of ``character``\"\"\"\n",
    "    text = text.split(character)\n",
    "    return [character.join(text[i : i + n]).strip() for i in range(0, len(text), n)]\n",
    "\n",
    "\n",
    "def split_documents(documents: dict) -> dict:\n",
    "    \"\"\"Split documents into passages\"\"\"\n",
    "    titles, texts = [], []\n",
    "    for title, text in zip(documents[\"title\"], documents[\"text\"]):\n",
    "        if text is not None:\n",
    "            for passage in split_text(text):\n",
    "                titles.append(title if title is not None else \"\")\n",
    "                texts.append(passage)\n",
    "    for i in range(len(texts)):\n",
    "        try:\n",
    "            lines = texts[i].split(\"\\n\")\n",
    "            name = \"Prodcut name: \" +lines[0]\n",
    "            header = \"Header: \"+lines[1]\n",
    "            desc = \"Description: \"+lines[2]\n",
    "            rest = \"\\n\".join(lines[3:])\n",
    "            texts[i] = \"\\n\".join([name, header, desc, rest])\n",
    "        except:\n",
    "            print(texts[i])\n",
    "            continue\n",
    "    return {\"title\": titles, \"text\": texts}\n",
    "\n",
    "def encode(encoder, q):\n",
    "    all_emb_c = []\n",
    "    for c in [q]:\n",
    "        c_emb = encoder.encode(c)\n",
    "        all_emb_c.append(np.array(c_emb))\n",
    "    all_emb_c = np.array(all_emb_c)\n",
    "    avg_emb_c = np.mean(all_emb_c, axis=0)\n",
    "    hyde_vector = avg_emb_c.reshape((1, len(avg_emb_c)))\n",
    "    return hyde_vector\n",
    "\n",
    "def embed(documents: dict, encoder) -> dict:\n",
    "    \"\"\"Compute the DPR embeddings of document passages\"\"\"\n",
    "    embeddings = []\n",
    "    texts = documents['text']\n",
    "    for doc in texts:\n",
    "        embeddings.append(encode(encoder, doc))\n",
    "    embeddings = np.vstack(embeddings)\n",
    "    return {\"embeddings\": embeddings}"
   ]
  },
  {
   "cell_type": "code",
   "execution_count": 131,
   "id": "f181ca5f",
   "metadata": {},
   "outputs": [
    {
     "name": "stderr",
     "output_type": "stream",
     "text": [
      "                                                   "
     ]
    },
    {
     "name": "stdout",
     "output_type": "stream",
     "text": [
      "text\n"
     ]
    },
    {
     "name": "stderr",
     "output_type": "stream",
     "text": [
      "\r"
     ]
    }
   ],
   "source": [
    "dataset = dataset.map(split_documents, batched=True)"
   ]
  },
  {
   "cell_type": "code",
   "execution_count": null,
   "id": "6abc0773",
   "metadata": {},
   "outputs": [
    {
     "name": "stderr",
     "output_type": "stream",
     "text": [
      "The tokenizer class you load from this checkpoint is not the same type as the class this function is called from. It may result in unexpected tokenization. \n",
      "The tokenizer class you load from this checkpoint is 'LLaMATokenizer'. \n",
      "The class this function is called from is 'LlamaTokenizer'.\n",
      "Loading checkpoint shards: 100%|██████████| 33/33 [00:23<00:00,  1.43it/s]\n"
     ]
    }
   ],
   "source": [
    "promptor = Promptor('web search')\n",
    "generator = AlpacaGenerator('decapoda-research/llama-7b-hf', 'tloen/alpaca-lora-7b', 'cuda')\n"
   ]
  },
  {
   "cell_type": "code",
   "execution_count": 7,
   "id": "ed673edc",
   "metadata": {},
   "outputs": [],
   "source": [
    "encoder = AutoQueryEncoder(encoder_dir='facebook/contriever', pooling='mean', device='cuda')\n"
   ]
  },
  {
   "cell_type": "code",
   "execution_count": 132,
   "id": "5fe2cef5",
   "metadata": {},
   "outputs": [],
   "source": [
    "# hyde = HyDE(promptor, generator, encoder, searcher)"
   ]
  },
  {
   "cell_type": "code",
   "execution_count": 133,
   "id": "2e6f7bf4",
   "metadata": {},
   "outputs": [
    {
     "name": "stderr",
     "output_type": "stream",
     "text": [
      "                                                             \r"
     ]
    }
   ],
   "source": [
    "new_features = Features(\n",
    "    {\"text\": Value(\"string\"), \"title\": Value(\"string\"), \"embeddings\": Sequence(Value(\"float32\"))}\n",
    ")  # optional, save as float32 instead of float64 to save space\n",
    "dataset = dataset.map(\n",
    "    partial(embed, encoder=encoder),\n",
    "    batched=True,\n",
    "    batch_size=16,\n",
    "    features=new_features,\n",
    ")"
   ]
  },
  {
   "cell_type": "code",
   "execution_count": 134,
   "id": "65c24913",
   "metadata": {},
   "outputs": [
    {
     "data": {
      "text/plain": [
       "['Prodcut name: Prodcut name: DuoPower',\n",
       " 'Header: Header: The duo of power and intelligence',\n",
       " 'Description: Description: The fischer DuoPower is an intelligent 2-component plug with three product functions. The intelligent universal plug is suitable for fixing in all building materials. This allows a variety of applications with just one plug. The fischer DuoPower adjusts itself automatically to the building material and transfers the highest loads through the three product functions of folding, expanding and knotting. The very good feedback from the plug when screwing the screw in generates extra security. The fischer DuoPower 6 x 50, 8 x 65 and 10 x 80, because of the larger anchorage depth, are particularly suitable for fixings in hollow building materials, aerated concrete and for bridge plaster.',\n",
       " 'Applications: TV consoles,Lighting,Shelves,Mirror cabinets,Letter boxes,Pictures,Fixing blinds,Curtain rails,Wash basin fixings,Plumbing and heating fixings,Bath and toilet installations,Wall cabinets,Range hood',\n",
       " 'Advantages: Two component materials for top load values and intelligent functioning depending on the substrate.,Great feedback (feel-good factor) of the plug. You can feel exactly, when the plug is installed perfectly.,The narrow plug rim prevents slipping into the drill hole.,The serrated anti-rotation feature prevents rotation in the drill hole during installation.,The greater anchorage depth of the DuoPower 6 x 50, 8 x 65 and 10 x 80 means that the plug is especially suited to fixings in hollow building materials, aerated concrete and to bridge plaster.',\n",
       " 'Materials: TV consoles,Lighting,Shelves,Mirror cabinets,Letter boxes,Pictures,Fixing blinds,Curtain rails,Wash basin fixings,Plumbing and heating fixings,Bath and toilet installations,Wall cabinets,Range hood']"
      ]
     },
     "execution_count": 134,
     "metadata": {},
     "output_type": "execute_result"
    }
   ],
   "source": [
    "dataset[1]['text'].split('\\n')"
   ]
  },
  {
   "cell_type": "code",
   "execution_count": 135,
   "id": "dcb0db43",
   "metadata": {},
   "outputs": [
    {
     "name": "stderr",
     "output_type": "stream",
     "text": [
      "                                                                                            \r"
     ]
    }
   ],
   "source": [
    "dataset.save_to_disk(\"passages\")"
   ]
  },
  {
   "cell_type": "code",
   "execution_count": 136,
   "id": "204cd444",
   "metadata": {},
   "outputs": [],
   "source": [
    "import faiss"
   ]
  },
  {
   "cell_type": "code",
   "execution_count": 137,
   "id": "3921042f",
   "metadata": {},
   "outputs": [
    {
     "name": "stderr",
     "output_type": "stream",
     "text": [
      "100%|██████████| 1/1 [00:00<00:00,  7.48it/s]\n"
     ]
    },
    {
     "data": {
      "text/plain": [
       "Dataset({\n",
       "    features: ['text', 'title', 'embeddings'],\n",
       "    num_rows: 486\n",
       "})"
      ]
     },
     "execution_count": 137,
     "metadata": {},
     "output_type": "execute_result"
    }
   ],
   "source": [
    "index = faiss.IndexHNSWFlat(768, 128, faiss.METRIC_INNER_PRODUCT)\n",
    "dataset.add_faiss_index(\"embeddings\", custom_index=index)"
   ]
  },
  {
   "cell_type": "code",
   "execution_count": 138,
   "id": "7210e23d",
   "metadata": {},
   "outputs": [],
   "source": [
    "import os\n",
    "index_path = os.path.join(\"fischer_db\")\n",
    "dataset.get_index(\"embeddings\").save(index_path)"
   ]
  },
  {
   "cell_type": "code",
   "execution_count": 139,
   "id": "e33eed4b",
   "metadata": {},
   "outputs": [],
   "source": [
    "hyde = HyDE(promptor, generator, encoder, None)"
   ]
  },
  {
   "cell_type": "code",
   "execution_count": 140,
   "id": "f1f19b97",
   "metadata": {},
   "outputs": [],
   "source": [
    "query = 'I need a screw with a trumpet shape head, a coarse thread and a needle tip'"
   ]
  },
  {
   "cell_type": "code",
   "execution_count": 182,
   "id": "ccacadc5",
   "metadata": {},
   "outputs": [],
   "source": [
    "WEB_SEARCH = \"Below is an instruction that describes a task. Write a response that appropriately completes the request.\\n\\n### Instruction:\\n{}\\n\\n### Response:\\n\"\n",
    "\n",
    "\n",
    "SCIFACT = \"\"\"Please write a scientific paper passage to support/refute the claim.\n",
    "Claim: {}\n",
    "Passage:\"\"\"\n",
    "\n",
    "\n",
    "ARGUANA = \"\"\"Please write a counter argument for the passage.\n",
    "Passage: {}\n",
    "Counter Argument:\"\"\"\n",
    "\n",
    "\n",
    "TREC_COVID = \"\"\"Please write a scientific paper passage to answer the question.\n",
    "Question: {}\n",
    "Passage:\"\"\"\n",
    "\n",
    "\n",
    "FIQA = \"\"\"Please write a financial article passage to answer the question.\n",
    "Question: {}\n",
    "Passage:\"\"\"\n",
    "\n",
    "\n",
    "DBPEDIA_ENTITY = \"\"\"Please write a passage to answer the question.\n",
    "Question: {}\n",
    "Passage:\"\"\"\n",
    "\n",
    "\n",
    "TREC_NEWS = \"\"\"Please write a news passage about the topic.\n",
    "Topic: {}\n",
    "Passage:\"\"\"\n",
    "\n",
    "\n",
    "MR_TYDI = \"\"\"Please write a passage in {} to answer the question in detail.\n",
    "Question: {}\n",
    "Passage:\"\"\"\n",
    "\n",
    "\n",
    "class Promptor:\n",
    "    def __init__(self, task: str, language: str = 'en'):\n",
    "        self.task = task\n",
    "        self.language = language\n",
    "    \n",
    "    def build_prompt(self, query: str):\n",
    "        if self.task == 'web search':\n",
    "            return WEB_SEARCH.format(query)\n",
    "        elif self.task == 'scifact':\n",
    "            return SCIFACT.format(query)\n",
    "        elif self.task == 'arguana':\n",
    "            return ARGUANA.format(query)\n",
    "        elif self.task == 'trec-covid':\n",
    "            return TREC_COVID.format(query)\n",
    "        elif self.task == 'fiqa':\n",
    "            return FIQA.format(query)\n",
    "        elif self.task == 'dbpedia-entity':\n",
    "            return DBPEDIA_ENTITY.format(query)\n",
    "        elif self.task == 'trec-news':\n",
    "            return TREC_NEWS.format(query)\n",
    "        elif self.task == 'mr-tydi':\n",
    "            return MR_TYDI.format(self.language, query)\n",
    "        else:\n",
    "            raise ValueError('Task not supported')\n"
   ]
  },
  {
   "cell_type": "code",
   "execution_count": 183,
   "id": "0f7e8316",
   "metadata": {},
   "outputs": [],
   "source": [
    "promptor = Promptor('web search')\n",
    "hyde.promptor = promptor"
   ]
  },
  {
   "cell_type": "code",
   "execution_count": 187,
   "id": "76dde6e9",
   "metadata": {},
   "outputs": [
    {
     "data": {
      "text/plain": [
       "'Please write a passage to answer the question.\\nQuestion:Have you got a trumpet head screw with an extra fine thread?'"
      ]
     },
     "execution_count": 187,
     "metadata": {},
     "output_type": "execute_result"
    }
   ],
   "source": [
    "\"Please write a passage to answer the question.\\nQuestion:\"+query"
   ]
  },
  {
   "cell_type": "code",
   "execution_count": 188,
   "id": "3252503d",
   "metadata": {},
   "outputs": [
    {
     "name": "stdout",
     "output_type": "stream",
     "text": [
      "Below is an instruction that describes a task. Write a response that appropriately completes the request.\n",
      "\n",
      "### Instruction:\n",
      "Please write a passage to answer the question.\n",
      "Question:Have you got a trumpet head screw with an extra fine thread?\n",
      "\n",
      "### Response:\n",
      "\n"
     ]
    }
   ],
   "source": [
    "prompt = hyde.prompt(\"Please write a passage to answer the question.\\nQuestion:\"+query)\n",
    "print(prompt)"
   ]
  },
  {
   "cell_type": "code",
   "execution_count": 189,
   "id": "f96dcd26",
   "metadata": {},
   "outputs": [],
   "source": [
    "\n",
    "import json\n",
    "import os.path as osp\n",
    "from typing import Union\n",
    "\n",
    "\n",
    "class PrompterAlpaca(object):\n",
    "    __slots__ = (\"template\", \"_verbose\")\n",
    "\n",
    "    def __init__(self, template_name: str = \"\", verbose: bool = False):\n",
    "        self._verbose = verbose\n",
    "        if not template_name:\n",
    "            # Enforce the default here, so the constructor can be called with '' and will not break.\n",
    "            template_name = \"alpaca\"\n",
    "        file_name = osp.join(\"templates\", f\"{template_name}.json\")\n",
    "        if not osp.exists(file_name):\n",
    "            raise ValueError(f\"Can't read {file_name}\")\n",
    "        with open(file_name) as fp:\n",
    "            self.template = json.load(fp)\n",
    "        if self._verbose:\n",
    "            print(\n",
    "                f\"Using prompt template {template_name}: {self.template['description']}\"\n",
    "            )\n",
    "\n",
    "    def generate_prompt(\n",
    "        self,\n",
    "        instruction: str,\n",
    "        input: Union[None, str] = None,\n",
    "        label: Union[None, str] = None,\n",
    "    ) -> str:\n",
    "        # returns the full prompt from instruction and optional input\n",
    "        # if a label (=response, =output) is provided, it's also appended.\n",
    "        if input:\n",
    "            res = self.template[\"prompt_input\"].format(\n",
    "                instruction=instruction, input=input\n",
    "            )\n",
    "        else:\n",
    "            res = self.template[\"prompt_no_input\"].format(\n",
    "                instruction=instruction\n",
    "            )\n",
    "        if label:\n",
    "            res = f\"{res}{label}\"\n",
    "        if self._verbose:\n",
    "            print(res)\n",
    "        return res\n",
    "\n",
    "    def get_response(self, output: str) -> str:\n",
    "        return output.split(self.template[\"response_split\"])[1].strip()\n",
    "\n",
    "prompter_alpaca = PrompterAlpaca(\"/workspace/alpaca-lora/templates/alpaca\")"
   ]
  },
  {
   "cell_type": "code",
   "execution_count": null,
   "id": "5b026a28",
   "metadata": {},
   "outputs": [],
   "source": []
  },
  {
   "cell_type": "code",
   "execution_count": 190,
   "id": "a242a238",
   "metadata": {},
   "outputs": [],
   "source": [
    "query = \"Have you got a trumpet head screw with an extra fine thread?\""
   ]
  },
  {
   "cell_type": "code",
   "execution_count": 193,
   "id": "81cf7d42",
   "metadata": {},
   "outputs": [],
   "source": [
    "hypothesis_documents = hyde.generate(\"Please write a passage to answer the question.\\nQuestion:\"+query)\n",
    "hypothesis_documents = [doc.split('Passage:')[1].split(\"Question\")[0].strip() for doc in hypothesis_documents]"
   ]
  },
  {
   "cell_type": "code",
   "execution_count": 195,
   "id": "ae3caba2",
   "metadata": {},
   "outputs": [
    {
     "data": {
      "text/plain": [
       "'Yes, I have a trumpet head screw with an extra fine thread. It is made of stainless steel and has a thread pitch of 0.015 inches.'"
      ]
     },
     "execution_count": 195,
     "metadata": {},
     "output_type": "execute_result"
    }
   ],
   "source": [
    "prompter_alpaca.get_response(hypothesis_documents[0])"
   ]
  },
  {
   "cell_type": "code",
   "execution_count": null,
   "id": "b37c9866",
   "metadata": {},
   "outputs": [],
   "source": []
  },
  {
   "cell_type": "code",
   "execution_count": null,
   "id": "c1e628b1",
   "metadata": {},
   "outputs": [],
   "source": []
  },
  {
   "cell_type": "code",
   "execution_count": 165,
   "id": "19068d5c",
   "metadata": {},
   "outputs": [],
   "source": [
    "hyde.generator.n = 1"
   ]
  },
  {
   "cell_type": "code",
   "execution_count": 166,
   "id": "1fcf8140",
   "metadata": {},
   "outputs": [],
   "source": [
    "hypothesis_documents = hyde.generate(\"Please write a passage to answer the question.\\nQuestion:\"+query)\n",
    "hypothesis_documents = [prompter_alpaca.get_response(doc) for doc in hypothesis_documents]\n",
    "hypothesis_documents = list(set(hypothesis_documents))\n",
    "hyde_vector = hyde.encode(query, hypothesis_documents)\n",
    "orig_vector = hyde.encode(query, [])\n",
    "hits_hyde = index.search(hyde_vector, k=2)[1][0].tolist()\n",
    "hits_orig = index.search(orig_vector, k=2)[1][0].tolist()\n",
    "hits = list(set(hits_orig + hits_hyde))\n",
    "retrieved_documents = [\n",
    "    dataset[int(hit)]['text'] for hit in hits\n",
    "]\n",
    "\n",
    "input_context = \"\\n\".join(retrieved_documents)\n",
    "instruction = \"Answer the following question: {}\".format(query)\n",
    "prompt_alpaca = prompter_alpaca.generate_prompt(instruction, input_context)\n",
    "output = hyde.generator.generate(prompt_alpaca)\n"
   ]
  },
  {
   "cell_type": "code",
   "execution_count": 167,
   "id": "0d631d13",
   "metadata": {},
   "outputs": [],
   "source": [
    "chat_out = prompter_alpaca.get_response(output[0])"
   ]
  },
  {
   "cell_type": "code",
   "execution_count": 168,
   "id": "71b6df6e",
   "metadata": {},
   "outputs": [
    {
     "data": {
      "text/plain": [
       "'Yes, I have got a trumpet head screw with an extra fine thread.'"
      ]
     },
     "execution_count": 168,
     "metadata": {},
     "output_type": "execute_result"
    }
   ],
   "source": [
    "chat_out"
   ]
  },
  {
   "cell_type": "code",
   "execution_count": 161,
   "id": "d4b5bd80",
   "metadata": {},
   "outputs": [
    {
     "data": {
      "text/plain": [
       "['The chipboard screw should be used for working with hardwood without pre-drilling.\\nThe chipboard screw should be used for working with hardwood without pre-drilling.']"
      ]
     },
     "execution_count": 161,
     "metadata": {},
     "output_type": "execute_result"
    }
   ],
   "source": [
    "hypothesis_documents"
   ]
  },
  {
   "cell_type": "markdown",
   "id": "5f7414ff",
   "metadata": {},
   "source": []
  },
  {
   "cell_type": "code",
   "execution_count": 61,
   "id": "e92adad8",
   "metadata": {},
   "outputs": [
    {
     "data": {
      "text/plain": [
       "'Below is an question that describes a task, paired with an input that provides further context. Write a response that appropriately completes the request.\\n\\n### Instruction:\\nQ: I am looking for a full fixing set when it comes to free-standing toilets and bidets. Do you sell such products? \\n\\n### Input:\\nSanitary fixing set S 8 D 70 WCR\\nComplete fixing sets for free-standing toilets and bidets\\nThe fischer fixing set S 8 D 70 WCR contains all elements required for the safe fixing of free-standing toilets: Two fischer plugs S 8 made from high-quality nylon, two stainless steel screws 6 x 70 with hexagonal head, two cover caps in chrome and white, and two snap-fit sleeves. The set is suitable for pre-positioned and push-through installation.\\nApplications: Free-standing toilets,Bidets\\nAdvantages: The complete fixing set including stainless steel screws allows for quick and easy installation.,A pronounced rim of the fixing ring prevents contact between the screw and ceramics, thus ensuring nothing gets damaged during fixing.\\nMaterials: Free-standing toilets,Bidets\\nSanitary fixing set S 8 D 70 WCR\\nComplete fixing sets for free-standing toilets and bidets\\nThe fischer fixing set S 8 D 70 WCR contains all elements required for the safe fixing of free-standing toilets: Two fischer plugs S 8 made from high-quality nylon, two stainless steel screws 6 x 70 with hexagonal head, two cover caps in chrome and white, and two snap-fit sleeves. The set is suitable for pre-positioned and push-through installation.\\nApplications: Free-standing toilets,Bidets\\nAdvantages: The complete fixing set including stainless steel screws allows for quick and easy installation.,A pronounced rim of the fixing ring prevents contact between the screw and ceramics, thus ensuring nothing gets damaged during fixing.\\nMaterials: Free-standing toilets,Bidets\\n\\n### Response:\\nYes, we sell full fixing sets when it comes to free-standing toilets and bidets.'"
      ]
     },
     "execution_count": 61,
     "metadata": {},
     "output_type": "execute_result"
    }
   ],
   "source": [
    "prompt_alpaca + chat_out + \"\\nQ: I want to \" + \"\\nContinue discussion:\""
   ]
  },
  {
   "cell_type": "code",
   "execution_count": 38,
   "id": "9de99572",
   "metadata": {},
   "outputs": [],
   "source": [
    "hits_hyde = index.search(hyde_vector, k=1)[1][0].tolist()"
   ]
  },
  {
   "cell_type": "code",
   "execution_count": 153,
   "id": "1ba0c4de",
   "metadata": {},
   "outputs": [
    {
     "data": {
      "text/plain": [
       "['Prodcut name: Prodcut name: Sanitary fixing set S 8 RD WCR\\nHeader: Header: Complete fixing sets for free-standing toilets and bidets\\nDescription: Description: The fischer toilet fixing set S 8 RD 80 contains all elements required for the safe fixing of free-standing toilets: Two fischer plugs S 8 with shaft and pronounced rim made from high-quality nylon, two stainless steel screws 6 x 85 with hexagonal head and two cover caps in chrome and white. The set is suitable for push-through installation.\\nApplications: Free-standing toilets,Bidets\\nAdvantages: The complete fixing set including stainless steel screws allows for quick and easy installation.,A pronounced rim prevents contact between the screw and ceramics, thus ensuring nothing gets damaged during fixing.\\nMaterials: Free-standing toilets,Bidets',\n",
       " 'Prodcut name: Prodcut name: DuoSeal\\nHeader: Header: The sealing plug for wet areas\\nDescription: Description: The fischer DuoSeal is a 2-component plug which seals the drill hole in wet areas without any additional sealing compound. The nylon plug with the enclosed screw has been independently tested by the Testing and Certification Institute of the Säure Fliesner Vereinigung e. V. The watertightness is confirmed in accordance with ETAG 022 and DIN 18534 up to the water exposure class W3-I. Taking into account the national and international sealing standards for wet areas, the DuoSeal in combination with the enclosed screw is suitable for applications in commercial, private and public wet areas which are frequently exposed to splash water and temporarily accumulated water. In any case, please take note of the generally national regulations on the use of plugs in wet areas.\\nApplications: Bathrooms,Kitchens,Spas,Swimming pool surroundings,Sports facilities,Laundry rooms,Accessories,Faucets,Shower panels,Mirrors,Shelves,Hair dryer holders,Kitchen accessories,Tubes\\nAdvantages: The DuoSeal completely seals drill holes in tiles without additional sealing compound and thus prevents structural damage caused by moisture in the building material.,The DuoSeal is ideally suited for tiled surfaces which are exposed to very frequent splashing water and temporarily accumulated water.,The universal plug can be installed gently on tiles with very little effort.,It´s red component ensures a secure hold in all building materials. Thus, the DuoSeal achieves the same load values as conventional nylon plugs.,The stainless steel screw included in the set is ideally suited for installation in wet areas and avoids rusting.,The soft plastic rim closes the drill hole completely and flexibly adapts to the shape of the attachment part.\\nMaterials: Bathrooms,Kitchens,Spas,Swimming pool surroundings,Sports facilities,Laundry rooms,Accessories,Faucets,Shower panels,Mirrors,Shelves,Hair dryer holders,Kitchen accessories,Tubes',\n",
       " 'Prodcut name: Prodcut name: DuoSeal\\nHeader: Header: The sealing plug for wet areas\\nDescription: Description: The fischer DuoSeal is a 2-component plug which seals the drill hole in wet areas without any additional sealing compound. The nylon plug with the enclosed screw has been independently tested by the Testing and Certification Institute of the Säure Fliesner Vereinigung e. V. The watertightness is confirmed in accordance with ETAG 022 and DIN 18534 up to the water exposure class W3-I. Taking into account the national and international sealing standards for wet areas, the DuoSeal in combination with the enclosed screw is suitable for applications in commercial, private and public wet areas which are frequently exposed to splash water and temporarily accumulated water. In any case, please take note of the generally national regulations on the use of plugs in wet areas.\\nApplications: Bathrooms,Kitchens,Spas,Swimming pool surroundings,Sports facilities,Laundry rooms,Accessories,Faucets,Shower panels,Mirrors,Shelves,Hair dryer holders,Kitchen accessories,Tubes\\nAdvantages: The DuoSeal completely seals drill holes in tiles without additional sealing compound and thus prevents structural damage caused by moisture in the building material.,The DuoSeal is ideally suited for tiled surfaces which are exposed to very frequent splashing water and temporarily accumulated water.,The universal plug can be installed gently on tiles with very little effort.,It´s red component ensures a secure hold in all building materials. Thus, the DuoSeal achieves the same load values as conventional nylon plugs.,The stainless steel screw included in the set is ideally suited for installation in wet areas and avoids rusting.,The soft plastic rim closes the drill hole completely and flexibly adapts to the shape of the attachment part.\\nMaterials: Bathrooms,Kitchens,Spas,Swimming pool surroundings,Sports facilities,Laundry rooms,Accessories,Faucets,Shower panels,Mirrors,Shelves,Hair dryer holders,Kitchen accessories,Tubes',\n",
       " 'Prodcut name: Prodcut name: Sanitary fixing set S 8 RD WCR\\nHeader: Header: Complete fixing sets for free-standing toilets and bidets\\nDescription: Description: The fischer toilet fixing set S 8 RD 80 contains all elements required for the safe fixing of free-standing toilets: Two fischer plugs S 8 with shaft and pronounced rim made from high-quality nylon, two stainless steel screws 6 x 85 with hexagonal head and two cover caps in chrome and white. The set is suitable for push-through installation.\\nApplications: Free-standing toilets,Bidets\\nAdvantages: The complete fixing set including stainless steel screws allows for quick and easy installation.,A pronounced rim prevents contact between the screw and ceramics, thus ensuring nothing gets damaged during fixing.\\nMaterials: Free-standing toilets,Bidets']"
      ]
     },
     "execution_count": 153,
     "metadata": {},
     "output_type": "execute_result"
    }
   ],
   "source": [
    "retrieved_documents"
   ]
  },
  {
   "cell_type": "code",
   "execution_count": 64,
   "id": "34161747",
   "metadata": {},
   "outputs": [
    {
     "data": {
      "text/plain": [
       "array([388, 392, 391, 389, 390])"
      ]
     },
     "execution_count": 64,
     "metadata": {},
     "output_type": "execute_result"
    }
   ],
   "source": []
  },
  {
   "cell_type": "code",
   "execution_count": 24,
   "id": "6e752a73",
   "metadata": {},
   "outputs": [
    {
     "data": {
      "text/plain": [
       "['Pipe clip RC\\nThe convenient pipe fixing\\nThe fischer pipe clip RC is an easy-to-mount solution for pipe fixings. The fischer SF plus RC is ideal for fixing plastic insulation pipes in concrete and solid building materials. Two additional pipe clips can be added to the sides of a pre-fixed pipe clip. This saves time and money, and increases flexibility. The pipe clip is secured in the drill hole with the fischer ClipFix plus SD or the fischer Hammerfix N 6. In the case of mounting with the fischer ClipFix plus SD, no further screw is required for the fixing. The plastic pipes are inserted and secured by the pre-tensioning of the pipe clip. The high-quality nylon of the pipe clip provides additional safety.\\nApplications: Flexible and rigid plastic insulating pipes\\nAdvantages: The pipe clip RC can be used with pre-installed clip fixing SD, with Hammerfix N 6 or in 11 mm C-shaped profile-rails, and thus allows for a flexible and cost-effective installation.,The 6 mm-long hole allows for the optimal alignment of the pipe fixing and ensures a more user-friendly installation.,Two additional pipe clips can be added to the sides of a pre-fixed pipe clip. This saves assembly time and materials.,The long-lasting nylon material is halogen- and silicone-free. It can be used all year round, including during a frost. This ensures a high level of safety.\\nMaterials: Flexible and rigid plastic insulating pipes',\n",
       " 'Pipe clip FC\\nThe flexible pipe clip for various diameters\\nThe fischer pipe clip FC is a fixing solution for cables and pipes with different diameters. The pipe clip can be installed in 11 mm C-profile rails or with the fischer Hammerfix N 5. Two additional pipe clips can be added to the sides of a pre-fixed pipe clip. This saves time and money, and increases flexibility. The pre-tensioning of the pipe clip holds the pipes and cables securely - even at external temperatures of -40°C to +80°C. The high-quality nylon of the pipe clip provides additional safety.\\nApplications: Electric cables,Flexible and rigid plastic insulating pipes\\nAdvantages: The flexible pipe clip socket ensures a secure hold for various cable and pipe diameters, and reduces the number of products required.,The pipe clip FC can be installed with both N 5 Hammerfixes and 11 mm-C-shaped profile-rails, and thus offers great flexibility.,Two additional pipe clips can be added to the sides of a pre-fixed clip clamp. This saves assembly time and materials.,The long-lasting nylon material is halogen-free. It can be used all year round, including during a frost. This ensures a high level of safety.\\nMaterials: Electric cables,Flexible and rigid plastic insulating pipes',\n",
       " 'ClipFix plus LS/ES/ZS\\nThe user-friendly clip fixing for pipes and conduits\\nThe fischer ClipFix plus LS is an easy-to-mount, cost-effective solution for the fixing of lightweight cables and pipes with different diameters. The fixing element is made from high-quality nylon and unites a plug, screw, and seat in a single component. The innovative electrical fixing is inserted into the drill hole without a screw and securely fixes the pipes and lines directly into concrete and solid brick. This saves time and money during the installation process.\\nApplications: Individual electric cables,Cable bundles,Flexible pipes,Rigid plastic pipes\\nAdvantages: The complete element combines anchor, screw and clamp. This saves materials, allows for one-handed installation, and reduces assembly time.,The slimline geometry of the fixing element only protrudes slightly, thus saving space.,The three different sizes of each of the cable strap LS, twin clamp ZS and single clamp ES cover a range of cable diameters, thus reducing storage.,The long-lasting nylon material is flame resistant, halogen- and silicone-free, can be used all year round, including during a frost. This ensures a high level of safety.\\nMaterials: Individual electric cables,Cable bundles,Flexible pipes,Rigid plastic pipes']"
      ]
     },
     "execution_count": 24,
     "metadata": {},
     "output_type": "execute_result"
    }
   ],
   "source": []
  },
  {
   "cell_type": "code",
   "execution_count": 39,
   "id": "b8d1a85c",
   "metadata": {},
   "outputs": [
    {
     "data": {
      "text/plain": [
       "{'text': 'Drywall screw FSN-TPR\\nThe gypsum plasterboard screws with trumpet shape head, coarse thread, needle tip and PH cross drive',\n",
       " 'title': 'Drywall screw FSN-TPR',\n",
       " 'embeddings': [-0.022631892934441566,\n",
       "  0.08117809891700745,\n",
       "  -0.016862154006958008,\n",
       "  -0.027642248198390007,\n",
       "  0.011176199652254581,\n",
       "  -0.020339298993349075,\n",
       "  -0.0024805713910609484,\n",
       "  0.018878331407904625,\n",
       "  0.01418533455580473,\n",
       "  0.0007856976008042693,\n",
       "  -0.09008126705884933,\n",
       "  -0.09138631820678711,\n",
       "  -0.060276955366134644,\n",
       "  0.024773133918642998,\n",
       "  -0.0006657866179011762,\n",
       "  -0.04839674010872841,\n",
       "  0.002140309428796172,\n",
       "  -0.004338051192462444,\n",
       "  -0.009142357856035233,\n",
       "  -0.03598582744598389,\n",
       "  -0.04379086568951607,\n",
       "  0.013270639814436436,\n",
       "  -0.05980702117085457,\n",
       "  -0.03862391412258148,\n",
       "  0.06030304357409477,\n",
       "  -0.17161838710308075,\n",
       "  -0.04694158956408501,\n",
       "  -0.024428686127066612,\n",
       "  -0.03977556899189949,\n",
       "  -0.05521037057042122,\n",
       "  -0.03523493558168411,\n",
       "  -0.03125155717134476,\n",
       "  -0.14630326628684998,\n",
       "  -0.041644319891929626,\n",
       "  -0.0779748260974884,\n",
       "  -0.05208342522382736,\n",
       "  -0.0355093851685524,\n",
       "  -0.011588232591748238,\n",
       "  -0.13155706226825714,\n",
       "  -0.03850206360220909,\n",
       "  -0.05104080215096474,\n",
       "  -0.015493650920689106,\n",
       "  -0.04994325339794159,\n",
       "  0.02440503239631653,\n",
       "  0.05640628933906555,\n",
       "  0.03217693418264389,\n",
       "  -0.056535542011260986,\n",
       "  -0.10952679812908173,\n",
       "  -0.09862200915813446,\n",
       "  0.022305816411972046,\n",
       "  -0.011388493701815605,\n",
       "  0.04245990514755249,\n",
       "  0.005984488409012556,\n",
       "  0.02876485139131546,\n",
       "  0.008543643169105053,\n",
       "  -0.07419772446155548,\n",
       "  0.05474070459604263,\n",
       "  0.003596326569095254,\n",
       "  0.06505373865365982,\n",
       "  -0.06971786171197891,\n",
       "  -0.009963419288396835,\n",
       "  -0.027775533497333527,\n",
       "  0.017633451148867607,\n",
       "  -0.010759716853499413,\n",
       "  -0.03624685853719711,\n",
       "  0.04497721418738365,\n",
       "  -0.005572581198066473,\n",
       "  -0.06194663047790527,\n",
       "  -0.1063915342092514,\n",
       "  0.06739415973424911,\n",
       "  0.089037224650383,\n",
       "  -0.016911957412958145,\n",
       "  -0.030764060094952583,\n",
       "  -0.03462350741028786,\n",
       "  -0.09568331390619278,\n",
       "  -0.14395219087600708,\n",
       "  -0.012124525383114815,\n",
       "  -0.02776365540921688,\n",
       "  0.0020661314483731985,\n",
       "  0.0017134967492893338,\n",
       "  0.026560580357909203,\n",
       "  -0.020070673897862434,\n",
       "  0.031677935272455215,\n",
       "  -0.057369839400053024,\n",
       "  0.005579278338700533,\n",
       "  -0.01381071750074625,\n",
       "  -0.043849579989910126,\n",
       "  -0.07657109946012497,\n",
       "  -0.03534427657723427,\n",
       "  -0.004282134119421244,\n",
       "  -0.10947471857070923,\n",
       "  -0.06830161809921265,\n",
       "  0.022418469190597534,\n",
       "  -0.025983350351452827,\n",
       "  -0.03427224978804588,\n",
       "  -0.0075898063369095325,\n",
       "  -0.11345595866441727,\n",
       "  0.09360028803348541,\n",
       "  0.0338185615837574,\n",
       "  0.035178396850824356,\n",
       "  -0.008598435670137405,\n",
       "  0.06275544315576553,\n",
       "  0.027724936604499817,\n",
       "  0.01826995052397251,\n",
       "  -0.04742509126663208,\n",
       "  -0.05640627443790436,\n",
       "  -0.005394546780735254,\n",
       "  -0.036932166665792465,\n",
       "  -0.11230063438415527,\n",
       "  -0.018039314076304436,\n",
       "  -0.022578485310077667,\n",
       "  0.029642021283507347,\n",
       "  0.027667665854096413,\n",
       "  -0.02839161455631256,\n",
       "  -0.06705881655216217,\n",
       "  0.032774291932582855,\n",
       "  -0.06265044212341309,\n",
       "  0.002685969229787588,\n",
       "  0.047790542244911194,\n",
       "  -0.07158499211072922,\n",
       "  -0.10607292503118515,\n",
       "  -0.08039796352386475,\n",
       "  0.042415715754032135,\n",
       "  -0.05875861272215843,\n",
       "  -0.024868907406926155,\n",
       "  -0.025962287560105324,\n",
       "  -0.030925605446100235,\n",
       "  0.06392449885606766,\n",
       "  -0.019413795322179794,\n",
       "  0.006050922907888889,\n",
       "  -0.01214985828846693,\n",
       "  -0.009596490301191807,\n",
       "  -0.03558521717786789,\n",
       "  -0.04709567502140999,\n",
       "  -0.0730530396103859,\n",
       "  0.0803699940443039,\n",
       "  -0.11236091703176498,\n",
       "  -0.04461391270160675,\n",
       "  -0.0459681935608387,\n",
       "  0.004403871949762106,\n",
       "  -6.499841219920199e-06,\n",
       "  0.04882260411977768,\n",
       "  -0.10704021900892258,\n",
       "  -0.0954984575510025,\n",
       "  -0.03064921498298645,\n",
       "  -0.00340644852258265,\n",
       "  -0.03094051033258438,\n",
       "  -0.009486733004450798,\n",
       "  -0.12329418212175369,\n",
       "  0.04535248130559921,\n",
       "  0.014313921332359314,\n",
       "  0.03432903811335564,\n",
       "  -0.038134098052978516,\n",
       "  0.028201160952448845,\n",
       "  -0.0479339063167572,\n",
       "  -0.06073063239455223,\n",
       "  0.031499337404966354,\n",
       "  -0.020344356074929237,\n",
       "  -0.020284822210669518,\n",
       "  0.020195862278342247,\n",
       "  -0.0024595775175839663,\n",
       "  0.10209182649850845,\n",
       "  -0.06552274525165558,\n",
       "  0.032182712107896805,\n",
       "  -0.04457670822739601,\n",
       "  -0.012456675060093403,\n",
       "  -0.04553195834159851,\n",
       "  0.027557481080293655,\n",
       "  -0.01732594147324562,\n",
       "  -0.04529866948723793,\n",
       "  -0.0492577962577343,\n",
       "  -0.07876776158809662,\n",
       "  -0.05401918292045593,\n",
       "  -0.06446529924869537,\n",
       "  0.0043723429553210735,\n",
       "  -0.006140534766018391,\n",
       "  -0.041585858911275864,\n",
       "  0.09857668727636337,\n",
       "  0.053615864366292953,\n",
       "  0.029004953801631927,\n",
       "  -0.0008037693332880735,\n",
       "  -0.006482479628175497,\n",
       "  0.08279993385076523,\n",
       "  -0.0010320977307856083,\n",
       "  -0.05675879120826721,\n",
       "  -0.021893834695219994,\n",
       "  -0.10552888363599777,\n",
       "  -0.07160795480012894,\n",
       "  -0.058203477412462234,\n",
       "  -0.11576122790575027,\n",
       "  -0.037239376455545425,\n",
       "  0.03593332692980766,\n",
       "  -0.009053670801222324,\n",
       "  -0.057967208325862885,\n",
       "  -0.024464264512062073,\n",
       "  -0.07086256146430969,\n",
       "  0.020811451599001884,\n",
       "  0.04088617116212845,\n",
       "  -0.036444950848817825,\n",
       "  0.014818522147834301,\n",
       "  0.009310122579336166,\n",
       "  0.059384141117334366,\n",
       "  0.10688915848731995,\n",
       "  -0.0030530483927577734,\n",
       "  -0.05732449144124985,\n",
       "  0.0012691806768998504,\n",
       "  0.05570597946643829,\n",
       "  -0.06765053421258926,\n",
       "  0.0027339973021298647,\n",
       "  -0.004089166410267353,\n",
       "  -0.0785013809800148,\n",
       "  -0.013126562349498272,\n",
       "  -0.03430980443954468,\n",
       "  0.027664387598633766,\n",
       "  0.017827801406383514,\n",
       "  -0.009942768141627312,\n",
       "  -0.012811397202312946,\n",
       "  -0.06956738978624344,\n",
       "  -0.025860216468572617,\n",
       "  0.02649887092411518,\n",
       "  -0.0058498564176261425,\n",
       "  -0.01597350463271141,\n",
       "  0.048168398439884186,\n",
       "  0.02039065957069397,\n",
       "  -0.07525710016489029,\n",
       "  -0.03873886168003082,\n",
       "  0.0005922091659158468,\n",
       "  -6.203669181559235e-05,\n",
       "  -0.016019130125641823,\n",
       "  0.07889769226312637,\n",
       "  -0.0056009115651249886,\n",
       "  0.016953475773334503,\n",
       "  -0.05091811716556549,\n",
       "  -0.14398707449436188,\n",
       "  0.017569677904248238,\n",
       "  0.01487598568201065,\n",
       "  -0.13106141984462738,\n",
       "  -0.04669314995408058,\n",
       "  -0.019144689664244652,\n",
       "  -0.08549576252698898,\n",
       "  -0.047330502420663834,\n",
       "  -0.0953977182507515,\n",
       "  0.07192352414131165,\n",
       "  -0.0024748502764850855,\n",
       "  -0.079853855073452,\n",
       "  -0.058040302246809006,\n",
       "  -0.08960449695587158,\n",
       "  -0.0604376345872879,\n",
       "  0.052244484424591064,\n",
       "  0.014428745023906231,\n",
       "  -0.009837429039180279,\n",
       "  -0.007289707660675049,\n",
       "  -0.0016955570317804813,\n",
       "  -0.09220278263092041,\n",
       "  -0.06846611201763153,\n",
       "  -0.026536745950579643,\n",
       "  0.07714223116636276,\n",
       "  -0.05061227083206177,\n",
       "  0.02209508791565895,\n",
       "  -0.00827423483133316,\n",
       "  0.025664694607257843,\n",
       "  0.030575202777981758,\n",
       "  0.07805906981229782,\n",
       "  -0.04049462080001831,\n",
       "  -0.04852516949176788,\n",
       "  0.06066270172595978,\n",
       "  0.043598614633083344,\n",
       "  -0.08148540556430817,\n",
       "  -0.059385355561971664,\n",
       "  -0.02675549127161503,\n",
       "  0.029166867956519127,\n",
       "  -0.010698243975639343,\n",
       "  -0.13909541070461273,\n",
       "  -0.08715222775936127,\n",
       "  -0.19768624007701874,\n",
       "  -0.05207331106066704,\n",
       "  -0.0003033957618754357,\n",
       "  -0.014267988502979279,\n",
       "  0.027482612058520317,\n",
       "  -0.01963100954890251,\n",
       "  0.0645541399717331,\n",
       "  -0.010914751328527927,\n",
       "  0.05933702737092972,\n",
       "  -0.017909446731209755,\n",
       "  -0.03288843855261803,\n",
       "  -0.01305075641721487,\n",
       "  0.04065635800361633,\n",
       "  0.0008405568660236895,\n",
       "  0.06252630054950714,\n",
       "  -0.038678523153066635,\n",
       "  -0.05694904923439026,\n",
       "  -0.033629853278398514,\n",
       "  -0.015411192551255226,\n",
       "  -0.14927373826503754,\n",
       "  0.01933753490447998,\n",
       "  -0.0017798845656216145,\n",
       "  -0.007040533237159252,\n",
       "  0.05011888965964317,\n",
       "  -0.06955286115407944,\n",
       "  -0.02315414696931839,\n",
       "  0.042807210236787796,\n",
       "  -0.08381102979183197,\n",
       "  0.00320659251883626,\n",
       "  -0.08112256973981857,\n",
       "  -0.04604049399495125,\n",
       "  0.046992748975753784,\n",
       "  0.0707056000828743,\n",
       "  0.02517373114824295,\n",
       "  -0.3832705616950989,\n",
       "  0.009749035350978374,\n",
       "  -0.0653621032834053,\n",
       "  -0.06417664885520935,\n",
       "  0.018419452011585236,\n",
       "  0.04608478024601936,\n",
       "  -0.020726637914776802,\n",
       "  -0.019867774099111557,\n",
       "  -0.024594848975539207,\n",
       "  0.0005772249423898757,\n",
       "  0.06013751029968262,\n",
       "  0.010280236601829529,\n",
       "  -0.08592738956212997,\n",
       "  -0.06933045387268066,\n",
       "  0.07439085841178894,\n",
       "  -0.018038831651210785,\n",
       "  -0.06757067143917084,\n",
       "  -0.03841060772538185,\n",
       "  -0.018269002437591553,\n",
       "  -0.029894456267356873,\n",
       "  -0.023151740431785583,\n",
       "  -0.06868992745876312,\n",
       "  0.018084494397044182,\n",
       "  -0.04897572100162506,\n",
       "  -0.012054053135216236,\n",
       "  -0.011900392360985279,\n",
       "  -0.018384724855422974,\n",
       "  -0.08598623424768448,\n",
       "  -0.058311477303504944,\n",
       "  0.04481396824121475,\n",
       "  -0.04135984927415848,\n",
       "  -0.0806267037987709,\n",
       "  -0.03939318284392357,\n",
       "  0.07114402949810028,\n",
       "  0.04239329323172569,\n",
       "  -0.05033627524971962,\n",
       "  0.03791087120771408,\n",
       "  0.035192377865314484,\n",
       "  -0.0752951055765152,\n",
       "  0.03662458434700966,\n",
       "  0.006160667631775141,\n",
       "  0.03865385800600052,\n",
       "  -0.02596476674079895,\n",
       "  -0.01578831486403942,\n",
       "  -0.1560218334197998,\n",
       "  -0.031059788540005684,\n",
       "  -0.10985100269317627,\n",
       "  -0.0017391040455549955,\n",
       "  -0.028335856273770332,\n",
       "  0.005691176746040583,\n",
       "  0.002843734808266163,\n",
       "  -0.02454417571425438,\n",
       "  0.007566479034721851,\n",
       "  -0.02900191955268383,\n",
       "  -0.028029266744852066,\n",
       "  -0.015328476205468178,\n",
       "  -0.08521110564470291,\n",
       "  -0.06720375269651413,\n",
       "  0.0194504726678133,\n",
       "  -0.009623314253985882,\n",
       "  0.03618909418582916,\n",
       "  -0.017744682729244232,\n",
       "  -0.06109009310603142,\n",
       "  0.030405491590499878,\n",
       "  0.00249324063770473,\n",
       "  0.051308680325746536,\n",
       "  -0.11582615971565247,\n",
       "  -0.02065940573811531,\n",
       "  -0.062371622771024704,\n",
       "  -0.016224568709731102,\n",
       "  0.010456384159624577,\n",
       "  -0.05847494676709175,\n",
       "  -0.08407474309206009,\n",
       "  -0.059382688254117966,\n",
       "  0.0722859725356102,\n",
       "  -0.04048682749271393,\n",
       "  -0.03588518500328064,\n",
       "  -0.043122775852680206,\n",
       "  -0.09563233703374863,\n",
       "  -0.06430385261774063,\n",
       "  -0.01578347012400627,\n",
       "  -0.006199799478054047,\n",
       "  -0.005313185974955559,\n",
       "  0.09739838540554047,\n",
       "  0.028137408196926117,\n",
       "  0.011944332160055637,\n",
       "  0.051522545516490936,\n",
       "  -0.06880555301904678,\n",
       "  -0.03884752094745636,\n",
       "  0.03644533455371857,\n",
       "  -0.0148126520216465,\n",
       "  -0.05583280324935913,\n",
       "  -0.054656535387039185,\n",
       "  -0.0020646059419959784,\n",
       "  0.027681488543748856,\n",
       "  -0.028172269463539124,\n",
       "  -0.04501406103372574,\n",
       "  0.09123001992702484,\n",
       "  -0.12759235501289368,\n",
       "  -0.03838766738772392,\n",
       "  -0.03557675704360008,\n",
       "  -0.040554411709308624,\n",
       "  -0.07149484008550644,\n",
       "  -0.05090181156992912,\n",
       "  -0.036661338061094284,\n",
       "  0.03166230022907257,\n",
       "  -0.08000064641237259,\n",
       "  -0.04392543062567711,\n",
       "  0.006513151340186596,\n",
       "  -0.0726664811372757,\n",
       "  0.05428650602698326,\n",
       "  -0.03623344004154205,\n",
       "  -0.020961064845323563,\n",
       "  -0.015657082200050354,\n",
       "  -0.11062373965978622,\n",
       "  -0.0070637972094118595,\n",
       "  -0.009028002619743347,\n",
       "  -0.0215135645121336,\n",
       "  -0.022020723670721054,\n",
       "  -0.038853149861097336,\n",
       "  -0.016147872433066368,\n",
       "  -0.07433222234249115,\n",
       "  -0.04885632172226906,\n",
       "  0.05613138526678085,\n",
       "  0.017142176628112793,\n",
       "  0.05874758958816528,\n",
       "  -0.05862564966082573,\n",
       "  -0.049671486020088196,\n",
       "  -0.0036715271417051554,\n",
       "  -0.04402494430541992,\n",
       "  -0.044001467525959015,\n",
       "  0.050150834023952484,\n",
       "  -0.00798654742538929,\n",
       "  -0.017581209540367126,\n",
       "  0.04740414395928383,\n",
       "  0.010870084166526794,\n",
       "  -0.006218258291482925,\n",
       "  0.07355803996324539,\n",
       "  -0.006615142337977886,\n",
       "  0.09506096690893173,\n",
       "  -0.03744283318519592,\n",
       "  0.10731428116559982,\n",
       "  -0.05473204329609871,\n",
       "  -0.0050780330784618855,\n",
       "  -0.12199728190898895,\n",
       "  0.0030744997784495354,\n",
       "  -0.009390450082719326,\n",
       "  -0.03719141334295273,\n",
       "  -0.047469362616539,\n",
       "  -0.09218089282512665,\n",
       "  0.004927192814648151,\n",
       "  -0.06450848281383514,\n",
       "  -0.07911092787981033,\n",
       "  0.005271376576274633,\n",
       "  0.022471396252512932,\n",
       "  -0.012710869312286377,\n",
       "  -0.017876552417874336,\n",
       "  -0.12211302667856216,\n",
       "  0.02020840533077717,\n",
       "  -0.08896202594041824,\n",
       "  -0.016759920865297318,\n",
       "  0.03159989044070244,\n",
       "  0.06904527544975281,\n",
       "  0.027868246659636497,\n",
       "  -0.09587955474853516,\n",
       "  -0.016498282551765442,\n",
       "  0.0416063629090786,\n",
       "  0.004102371633052826,\n",
       "  -0.034870877861976624,\n",
       "  0.02368006482720375,\n",
       "  0.026257168501615524,\n",
       "  -0.014524227939546108,\n",
       "  -0.027668491005897522,\n",
       "  -0.02980964258313179,\n",
       "  -0.06995201855897903,\n",
       "  0.040308400988578796,\n",
       "  0.045079730451107025,\n",
       "  -0.06737731397151947,\n",
       "  0.0641932561993599,\n",
       "  0.05391048640012741,\n",
       "  0.007227309513837099,\n",
       "  0.024733267724514008,\n",
       "  0.0010567641584202647,\n",
       "  0.031048394739627838,\n",
       "  -0.041002076119184494,\n",
       "  -0.02256743237376213,\n",
       "  0.0048336912877857685,\n",
       "  -0.06792061030864716,\n",
       "  -0.006146152038127184,\n",
       "  0.01765187829732895,\n",
       "  0.06068304181098938,\n",
       "  0.02920781448483467,\n",
       "  0.02152818627655506,\n",
       "  -0.001542133977636695,\n",
       "  -0.024436093866825104,\n",
       "  -0.050463005900382996,\n",
       "  -0.05429311841726303,\n",
       "  0.07301370054483414,\n",
       "  -0.015466532669961452,\n",
       "  0.02645053341984749,\n",
       "  -0.04676877334713936,\n",
       "  -0.0201430507004261,\n",
       "  -0.04932212457060814,\n",
       "  -0.06054416671395302,\n",
       "  -0.032715022563934326,\n",
       "  0.016633573919534683,\n",
       "  0.021078035235404968,\n",
       "  0.017157593742012978,\n",
       "  -0.0055015296675264835,\n",
       "  -0.06364373862743378,\n",
       "  0.03848790004849434,\n",
       "  -0.055497147142887115,\n",
       "  -0.08266506344079971,\n",
       "  0.0024874629452824593,\n",
       "  0.012199059128761292,\n",
       "  -0.02031048573553562,\n",
       "  -0.031271692365407944,\n",
       "  -0.061235781759023666,\n",
       "  0.041361253708601,\n",
       "  -0.029797138646245003,\n",
       "  0.02998003363609314,\n",
       "  -0.03813745081424713,\n",
       "  0.002604318782687187,\n",
       "  -0.046043120324611664,\n",
       "  -0.038623809814453125,\n",
       "  0.025374332442879677,\n",
       "  -0.024278312921524048,\n",
       "  -0.028384990990161896,\n",
       "  -0.03931315988302231,\n",
       "  -0.0325947105884552,\n",
       "  -0.026411866769194603,\n",
       "  0.011310569010674953,\n",
       "  -0.049410734325647354,\n",
       "  -0.047741103917360306,\n",
       "  0.015229634940624237,\n",
       "  0.002086695283651352,\n",
       "  -0.04788584262132645,\n",
       "  -0.03785328194499016,\n",
       "  -0.05807799473404884,\n",
       "  0.002529350807890296,\n",
       "  -0.0131909791380167,\n",
       "  0.013637171126902103,\n",
       "  0.001434199744835496,\n",
       "  -0.014711339958012104,\n",
       "  0.025308476760983467,\n",
       "  -0.006543148774653673,\n",
       "  0.008695550262928009,\n",
       "  -0.03311842679977417,\n",
       "  -0.07623520493507385,\n",
       "  -0.010012955404818058,\n",
       "  0.046882759779691696,\n",
       "  -0.07705838233232498,\n",
       "  0.00828674528747797,\n",
       "  -0.031402960419654846,\n",
       "  0.030222348868846893,\n",
       "  -0.013217703439295292,\n",
       "  -0.06956975162029266,\n",
       "  0.03052697330713272,\n",
       "  -0.09554661810398102,\n",
       "  0.06116408854722977,\n",
       "  0.03771429881453514,\n",
       "  -0.0579209066927433,\n",
       "  -0.07198011130094528,\n",
       "  0.0847785621881485,\n",
       "  -0.02727442793548107,\n",
       "  -0.003034028923138976,\n",
       "  0.0980471670627594,\n",
       "  0.10432714223861694,\n",
       "  0.05195323005318642,\n",
       "  -0.08068817853927612,\n",
       "  -0.07389181852340698,\n",
       "  -0.003551653353497386,\n",
       "  0.006795790512114763,\n",
       "  -0.04267486557364464,\n",
       "  0.05981981381773949,\n",
       "  -0.008420982398092747,\n",
       "  -0.0462370403110981,\n",
       "  0.049928002059459686,\n",
       "  -0.02357161045074463,\n",
       "  -0.022718532010912895,\n",
       "  -0.0005883664707653224,\n",
       "  -0.0048263524658977985,\n",
       "  0.030554048717021942,\n",
       "  -0.026268577203154564,\n",
       "  -0.008307110518217087,\n",
       "  -0.028242219239473343,\n",
       "  -0.06297734379768372,\n",
       "  -0.04523460566997528,\n",
       "  0.014471289701759815,\n",
       "  -0.10703926533460617,\n",
       "  -0.025591105222702026,\n",
       "  0.013750829733908176,\n",
       "  0.0018335860222578049,\n",
       "  0.009951907210052013,\n",
       "  -0.03515031188726425,\n",
       "  -0.008458256721496582,\n",
       "  -0.09665602445602417,\n",
       "  0.009202570654451847,\n",
       "  -0.027252033352851868,\n",
       "  0.016250330954790115,\n",
       "  -0.07393655925989151,\n",
       "  -0.08245278894901276,\n",
       "  -0.06731116771697998,\n",
       "  -0.05233803018927574,\n",
       "  -0.04404110461473465,\n",
       "  -0.034642450511455536,\n",
       "  0.014545679092407227,\n",
       "  -0.032657165080308914,\n",
       "  -0.04158077389001846,\n",
       "  -0.06775683164596558,\n",
       "  -0.027222635224461555,\n",
       "  0.020853644236922264,\n",
       "  -0.12325766682624817,\n",
       "  -0.00876457430422306,\n",
       "  -0.012137837707996368,\n",
       "  -0.014825799502432346,\n",
       "  -0.014722928404808044,\n",
       "  -0.08971510827541351,\n",
       "  0.0012371124466881156,\n",
       "  -0.05824501812458038,\n",
       "  -0.012771452777087688,\n",
       "  -0.034313783049583435,\n",
       "  -0.06307510286569595,\n",
       "  -0.035432472825050354,\n",
       "  0.018521888181567192,\n",
       "  0.06771386414766312,\n",
       "  0.038265012204647064,\n",
       "  -0.031143661588430405,\n",
       "  -0.10000085830688477,\n",
       "  -0.030678842216730118,\n",
       "  -0.03699133172631264,\n",
       "  -0.010254924185574055,\n",
       "  -0.059079062193632126,\n",
       "  -0.02518356963992119,\n",
       "  0.08525960892438889,\n",
       "  -0.04628235474228859,\n",
       "  -0.008170656859874725,\n",
       "  -0.024218855425715446,\n",
       "  -0.036413513123989105,\n",
       "  -0.09033595025539398,\n",
       "  0.029466133564710617,\n",
       "  0.03128120303153992,\n",
       "  0.07254178076982498,\n",
       "  -0.06845743209123611,\n",
       "  0.000947781722061336,\n",
       "  -0.03502782806754112,\n",
       "  -0.020246215164661407,\n",
       "  -0.0016983108362182975,\n",
       "  -0.10431351512670517,\n",
       "  -0.14326734840869904,\n",
       "  -0.020485959947109222,\n",
       "  -0.08561641722917557,\n",
       "  -0.06284480541944504,\n",
       "  0.05328277871012688,\n",
       "  -0.014293324202299118,\n",
       "  0.02439136616885662,\n",
       "  0.006111482158303261,\n",
       "  0.011308091692626476,\n",
       "  0.015147452242672443,\n",
       "  -0.0470004677772522,\n",
       "  0.09006895869970322,\n",
       "  -0.01643688604235649,\n",
       "  -0.02632245421409607,\n",
       "  -0.00441415049135685,\n",
       "  -0.054589446634054184,\n",
       "  -0.06830625236034393,\n",
       "  -0.04506071284413338,\n",
       "  -0.06323537230491638,\n",
       "  -0.0010834191925823689,\n",
       "  0.03411979600787163,\n",
       "  0.00843806378543377,\n",
       "  0.052792374044656754,\n",
       "  0.04929284751415253,\n",
       "  -0.01336160022765398,\n",
       "  0.0857154130935669,\n",
       "  -0.08621873706579208,\n",
       "  0.02034899592399597,\n",
       "  0.09105585515499115,\n",
       "  -0.06060900166630745,\n",
       "  0.004603112582117319,\n",
       "  -0.07892701774835587,\n",
       "  -0.07123139500617981,\n",
       "  0.022361883893609047,\n",
       "  -0.07651928067207336,\n",
       "  -0.017490584403276443,\n",
       "  0.06811162829399109,\n",
       "  -0.08135847747325897,\n",
       "  0.027644069865345955,\n",
       "  0.020277852192521095,\n",
       "  0.010815580375492573,\n",
       "  -0.06919820606708527,\n",
       "  0.05117706209421158,\n",
       "  -0.058060355484485626,\n",
       "  0.03276272863149643,\n",
       "  0.07078298926353455,\n",
       "  -0.013506153598427773,\n",
       "  -0.043502077460289,\n",
       "  -0.09506788104772568,\n",
       "  -0.01902456022799015,\n",
       "  0.05097806826233864,\n",
       "  -0.06458760052919388,\n",
       "  0.019058089703321457,\n",
       "  -0.09176556020975113,\n",
       "  0.0069001587107777596,\n",
       "  0.08095583319664001,\n",
       "  -0.034916069358587265,\n",
       "  -0.03584783524274826,\n",
       "  0.03237897530198097,\n",
       "  -0.054837021976709366,\n",
       "  -0.020762328058481216,\n",
       "  -0.048345472663640976,\n",
       "  0.07706595212221146,\n",
       "  -0.0033461907878518105,\n",
       "  -0.05876460298895836,\n",
       "  -0.13116031885147095,\n",
       "  0.08945833891630173,\n",
       "  -0.04925410449504852,\n",
       "  0.06195459142327309,\n",
       "  -0.0046343207359313965,\n",
       "  -0.08059843629598618,\n",
       "  -0.010794797912240028,\n",
       "  -0.09651846438646317,\n",
       "  -0.05956628918647766,\n",
       "  -0.12130521982908249,\n",
       "  -0.04847508668899536,\n",
       "  0.03444584459066391,\n",
       "  0.030933665111660957,\n",
       "  -0.09603513777256012,\n",
       "  0.0011788239935413003,\n",
       "  0.006090211682021618,\n",
       "  0.027919819578528404,\n",
       "  -0.08486688882112503,\n",
       "  0.05327588692307472,\n",
       "  -0.02055668644607067,\n",
       "  -0.02438269928097725,\n",
       "  0.02621212601661682,\n",
       "  -0.02691597305238247,\n",
       "  -0.06670506298542023,\n",
       "  -0.045496050268411636,\n",
       "  -0.09077391773462296,\n",
       "  7.285313131433213e-06,\n",
       "  -0.11936640739440918,\n",
       "  0.004074884112924337,\n",
       "  0.0048759314231574535,\n",
       "  0.23626691102981567,\n",
       "  -0.05366038903594017,\n",
       "  -0.03232293203473091,\n",
       "  0.01363442838191986,\n",
       "  0.04660183563828468,\n",
       "  -0.01953757181763649,\n",
       "  0.04492202773690224,\n",
       "  0.0586320236325264,\n",
       "  0.03913583979010582,\n",
       "  0.09414222091436386,\n",
       "  0.0318642184138298,\n",
       "  -0.1104021966457367,\n",
       "  -0.026713093742728233,\n",
       "  -0.008670804090797901,\n",
       "  0.027453849092125893,\n",
       "  -0.12515178322792053]}"
      ]
     },
     "execution_count": 39,
     "metadata": {},
     "output_type": "execute_result"
    }
   ],
   "source": []
  },
  {
   "cell_type": "markdown",
   "id": "4c3be967",
   "metadata": {},
   "source": [
    "### Build Zeroshot Prompt"
   ]
  },
  {
   "cell_type": "code",
   "execution_count": 38,
   "id": "a6e0eecc",
   "metadata": {},
   "outputs": [
    {
     "name": "stdout",
     "output_type": "stream",
     "text": [
      "Please write a passage to answer the question.\n",
      "Question: how long does it take to remove wisdom tooth\n",
      "Passage:\n"
     ]
    }
   ],
   "source": []
  },
  {
   "cell_type": "markdown",
   "id": "1821d8b9",
   "metadata": {},
   "source": [
    "### Generate Hypothesis Documents"
   ]
  },
  {
   "cell_type": "code",
   "execution_count": 39,
   "id": "4032c2b7",
   "metadata": {},
   "outputs": [
    {
     "name": "stdout",
     "output_type": "stream",
     "text": [
      "HyDE Generated Document: 0\n",
      "There is no one-size-fits-all answer to this question, as the time it takes to remove a wisdom tooth can vary depending on the individual case. In general, however, the procedure usually takes around 30 minutes to an hour to complete.\n",
      "HyDE Generated Document: 1\n",
      "It generally takes around 30 to 45 minutes to remove a wisdom tooth. However, the time may vary depending on the position of the tooth and the amount of work required.\n",
      "HyDE Generated Document: 2\n",
      "It usually takes around 30 to 45 minutes to remove a wisdom tooth. However, the length of time may vary depending on the individual case.\n",
      "HyDE Generated Document: 3\n",
      "It can take anywhere from a few days to a few weeks to remove a wisdom tooth. The length of time will depend on the individual case and the severity of the tooth.\n",
      "HyDE Generated Document: 4\n",
      "The length of time it takes to remove a wisdom tooth varies depending on the tooth's position and the amount of bone surrounding it. The procedure can take anywhere from 20 minutes to an hour.\n",
      "HyDE Generated Document: 5\n",
      "The length of time it takes to remove a wisdom tooth depends on a few factors, such as the position of the tooth and the type of extraction (simple or surgical). A simple extraction is typically quicker, taking about 20 minutes, while a surgical extraction can take up to an hour.\n",
      "HyDE Generated Document: 6\n",
      "It can take anywhere from a few days to a couple of weeks to recover from having your wisdom teeth removed. The actual procedure itself is usually over within an hour or so, but it can take some time for the numbing medication to wear off and for the swelling to go down.\n",
      "HyDE Generated Document: 7\n",
      "It generally takes around 20 minutes to remove a wisdom tooth. However, the time may vary depending on the individual case. In some cases, the tooth may be removed in just a few minutes, while in others it may take up to an hour.\n"
     ]
    }
   ],
   "source": []
  },
  {
   "cell_type": "markdown",
   "id": "022a4cd8",
   "metadata": {},
   "source": [
    "### Encode HyDE vector"
   ]
  },
  {
   "cell_type": "code",
   "execution_count": 40,
   "id": "cdb4e5b9",
   "metadata": {},
   "outputs": [
    {
     "name": "stdout",
     "output_type": "stream",
     "text": [
      "(1, 768)\n"
     ]
    }
   ],
   "source": []
  },
  {
   "cell_type": "markdown",
   "id": "fe95165a",
   "metadata": {},
   "source": [
    "### Search Relevant Documents"
   ]
  },
  {
   "cell_type": "code",
   "execution_count": 41,
   "id": "8ae97c0a",
   "metadata": {},
   "outputs": [
    {
     "name": "stdout",
     "output_type": "stream",
     "text": [
      "HyDE Retrieved Document: 0\n",
      "4174313\n",
      "The time it takes to remove the tooth will vary. Some procedures only take a few minutes, whereas others can take 20 minutes or longer. After your wisdom teeth have been removed, you may experience swelling and discomfort, both on the inside and outside of your mouth.This is usually worse for the first three days, but it can last for up to two weeks. Read more about how a wisdom tooth is removed and recovering from wisdom tooth removal.he time it takes to remove the tooth will vary. Some procedures only take a few minutes, whereas others can take 20 minutes or longer. After your wisdom teeth have been removed, you may experience swelling and discomfort, both on the inside and outside of your mouth.\n",
      "HyDE Retrieved Document: 1\n",
      "18103\n",
      "Before having your wisdom teeth removed, you'll be given an injection of local anaesthetic to numb the tooth and surrounding area. If you're particularly anxious about the procedure, your dentist or surgeon may give you a sedative to help you relax. This usually involves an injection into your arm.urgery to remove wisdom teeth shouldn't be painful, because the area will be numb. However, if you feel pain during the procedure, tell your dentist or oral surgeon so they can give you more anaesthetic. How long it takes to remove the tooth will vary.\n",
      "HyDE Retrieved Document: 2\n",
      "91493\n",
      "The time it takes to remove the tooth will vary. Some procedures only take a few minutes, whereas others can take 20 minutes or longer. After your wisdom teeth have been removed, you may experience swelling and discomfort, both on the inside and outside of your mouth. This is usually worse for the first three days, but it can last for up to two weeks. Read more about how a wisdom tooth is removed and recovering from wisdom tooth removal.\n",
      "HyDE Retrieved Document: 3\n",
      "4155912\n",
      "How long does it take to remove all wisdom teeth?   I got my wisdom teeth removed 5 days ago. I received intravenous anesthesia, so I was not concious during the process, but those present said it only took about 35 to 40â¦ minutes for removal.\n",
      "HyDE Retrieved Document: 4\n",
      "7344529\n",
      "Complications like infection can lengthen the time it takes to heal up, but here is a general timeline: 1  Swelling and pain will be the greatest during the first 3 days (peaking at about 48hours). 2  Normally, the sockets should take about 2 weeks to 1 month to cover over with solid gum tissue after scabbing first.\n",
      "HyDE Retrieved Document: 5\n",
      "4174308\n",
      "How wisdom teeth are removed. Your dentist may remove your wisdom teeth or they may refer you to a specialist surgeon for hospital treatment. Before the procedure, you'll usually be given a local anaesthetic injection to numb the area around the tooth.he time it takes to remove the tooth will vary. Some procedures only take a few minutes, whereas others can take 20 minutes or longer. After your wisdom teeth have been removed, you may experience swelling and discomfort, both on the inside and outside of your mouth.\n",
      "HyDE Retrieved Document: 6\n",
      "4174310\n",
      "If your dentist thinks you may need your wisdom teeth removed, they'll usually carry out an X-ray of your mouth. This gives them a clearer view of the position of your teeth. As with any teeth problems, it's important to see your dentist as soon as possible, rather than waiting for your regular dental check-up.he time it takes to remove the tooth will vary. Some procedures only take a few minutes, whereas others can take 20 minutes or longer. After your wisdom teeth have been removed, you may experience swelling and discomfort, both on the inside and outside of your mouth.\n",
      "HyDE Retrieved Document: 7\n",
      "4595794\n",
      "If you have a dentist remove your wisdom teeth, i can take between 20 minutes and three hours per tooth. If you get a surgeon to remove your wisdom teeth, it takes between 30 seconds and five minutes per tooth. To find out more on wisdom teeth surgery and the approximate times on surgery as well as post-operative instructions, go to http://dentalimplantsaustralia.com/. Source(s): http://dentalimplantsaustralia.com/.\n",
      "HyDE Retrieved Document: 8\n",
      "4159345\n",
      "How long does it take to heal after your wisdom teeth are removed. As with any type of surgery, everyone heals differently, but it usually takes between 10 days to 2 weeks for wisdom teeth removal.\n",
      "HyDE Retrieved Document: 9\n",
      "2940180\n",
      "You shouldn't even brush your teeth for the first day of recovery. According to the offices of practicing oral surgeon Dr. Joseph Arzadon of Arlington, Virginia, typical wisdom teeth recovery time is three to four days, although it can be as long as one week. The length of recovery depends a lot on how badly the wisdom teeth were impacted and how they were erupting.\n"
     ]
    }
   ],
   "source": []
  },
  {
   "cell_type": "markdown",
   "id": "a2edb68c",
   "metadata": {},
   "source": [
    "### End to End Search\n",
    "\n",
    "e2e search will directly go through all the steps descripted above."
   ]
  },
  {
   "cell_type": "code",
   "execution_count": 42,
   "id": "47e9f353",
   "metadata": {},
   "outputs": [
    {
     "name": "stdout",
     "output_type": "stream",
     "text": [
      "HyDE Retrieved Document: 0\n",
      "4174313\n",
      "The time it takes to remove the tooth will vary. Some procedures only take a few minutes, whereas others can take 20 minutes or longer. After your wisdom teeth have been removed, you may experience swelling and discomfort, both on the inside and outside of your mouth.This is usually worse for the first three days, but it can last for up to two weeks. Read more about how a wisdom tooth is removed and recovering from wisdom tooth removal.he time it takes to remove the tooth will vary. Some procedures only take a few minutes, whereas others can take 20 minutes or longer. After your wisdom teeth have been removed, you may experience swelling and discomfort, both on the inside and outside of your mouth.\n",
      "HyDE Retrieved Document: 1\n",
      "91493\n",
      "The time it takes to remove the tooth will vary. Some procedures only take a few minutes, whereas others can take 20 minutes or longer. After your wisdom teeth have been removed, you may experience swelling and discomfort, both on the inside and outside of your mouth. This is usually worse for the first three days, but it can last for up to two weeks. Read more about how a wisdom tooth is removed and recovering from wisdom tooth removal.\n",
      "HyDE Retrieved Document: 2\n",
      "4155912\n",
      "How long does it take to remove all wisdom teeth?   I got my wisdom teeth removed 5 days ago. I received intravenous anesthesia, so I was not concious during the process, but those present said it only took about 35 to 40â¦ minutes for removal.\n",
      "HyDE Retrieved Document: 3\n",
      "18103\n",
      "Before having your wisdom teeth removed, you'll be given an injection of local anaesthetic to numb the tooth and surrounding area. If you're particularly anxious about the procedure, your dentist or surgeon may give you a sedative to help you relax. This usually involves an injection into your arm.urgery to remove wisdom teeth shouldn't be painful, because the area will be numb. However, if you feel pain during the procedure, tell your dentist or oral surgeon so they can give you more anaesthetic. How long it takes to remove the tooth will vary.\n",
      "HyDE Retrieved Document: 4\n",
      "7344529\n",
      "Complications like infection can lengthen the time it takes to heal up, but here is a general timeline: 1  Swelling and pain will be the greatest during the first 3 days (peaking at about 48hours). 2  Normally, the sockets should take about 2 weeks to 1 month to cover over with solid gum tissue after scabbing first.\n",
      "HyDE Retrieved Document: 5\n",
      "3654735\n",
      "All surgery is associated with some degree of pain, from mild to severe. If your surgery was more extensive, then you will have more post-operative pain, unfortunately. Typically the pain intensity peaks 6 to 10 hours after the procedures.\n",
      "HyDE Retrieved Document: 6\n",
      "4174308\n",
      "How wisdom teeth are removed. Your dentist may remove your wisdom teeth or they may refer you to a specialist surgeon for hospital treatment. Before the procedure, you'll usually be given a local anaesthetic injection to numb the area around the tooth.he time it takes to remove the tooth will vary. Some procedures only take a few minutes, whereas others can take 20 minutes or longer. After your wisdom teeth have been removed, you may experience swelling and discomfort, both on the inside and outside of your mouth.\n",
      "HyDE Retrieved Document: 7\n",
      "4159345\n",
      "How long does it take to heal after your wisdom teeth are removed. As with any type of surgery, everyone heals differently, but it usually takes between 10 days to 2 weeks for wisdom teeth removal.\n",
      "HyDE Retrieved Document: 8\n",
      "2940180\n",
      "You shouldn't even brush your teeth for the first day of recovery. According to the offices of practicing oral surgeon Dr. Joseph Arzadon of Arlington, Virginia, typical wisdom teeth recovery time is three to four days, although it can be as long as one week. The length of recovery depends a lot on how badly the wisdom teeth were impacted and how they were erupting.\n",
      "HyDE Retrieved Document: 9\n",
      "4595794\n",
      "If you have a dentist remove your wisdom teeth, i can take between 20 minutes and three hours per tooth. If you get a surgeon to remove your wisdom teeth, it takes between 30 seconds and five minutes per tooth. To find out more on wisdom teeth surgery and the approximate times on surgery as well as post-operative instructions, go to http://dentalimplantsaustralia.com/. Source(s): http://dentalimplantsaustralia.com/.\n"
     ]
    }
   ],
   "source": [
    "hits = hyde.e2e_search(query, k=10)\n",
    "for i, hit in enumerate(hits):\n",
    "    print(f'HyDE Retrieved Document: {i}')\n",
    "    print(hit.docid)\n",
    "    print(json.loads(corpus.doc(hit.docid).raw())['contents'])"
   ]
  },
  {
   "cell_type": "code",
   "execution_count": null,
   "id": "578d2ca9",
   "metadata": {},
   "outputs": [],
   "source": []
  }
 ],
 "metadata": {
  "kernelspec": {
   "display_name": "Python 3.8.13 ('binder')",
   "language": "python",
   "name": "python3"
  },
  "language_info": {
   "codemirror_mode": {
    "name": "ipython",
    "version": 3
   },
   "file_extension": ".py",
   "mimetype": "text/x-python",
   "name": "python",
   "nbconvert_exporter": "python",
   "pygments_lexer": "ipython3",
   "version": "3.8.13"
  },
  "vscode": {
   "interpreter": {
    "hash": "69dc8d5aafec8ae3fa1fc52986190fb7b1bcb1c4684e5d3b6aa96016ecada253"
   }
  }
 },
 "nbformat": 4,
 "nbformat_minor": 5
}
