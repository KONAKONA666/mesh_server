{
 "cells": [
  {
   "cell_type": "code",
   "execution_count": 1,
   "metadata": {},
   "outputs": [
    {
     "name": "stdout",
     "output_type": "stream",
     "text": [
      "\n",
      "===================================BUG REPORT===================================\n",
      "Welcome to bitsandbytes. For bug reports, please run\n",
      "\n",
      "python -m bitsandbytes\n",
      "\n",
      " and submit this information together with your error trace to: https://github.com/TimDettmers/bitsandbytes/issues\n",
      "================================================================================\n",
      "bin /usr/local/lib/python3.10/dist-packages/bitsandbytes/libbitsandbytes_cuda116.so\n",
      "CUDA_SETUP: WARNING! libcudart.so not found in any environmental path. Searching in backup paths...\n",
      "CUDA SETUP: CUDA runtime path found: /usr/local/cuda/lib64/libcudart.so\n",
      "CUDA SETUP: Highest compute capability among GPUs detected: 8.6\n",
      "CUDA SETUP: Detected CUDA version 116\n",
      "CUDA SETUP: Loading binary /usr/local/lib/python3.10/dist-packages/bitsandbytes/libbitsandbytes_cuda116.so...\n"
     ]
    },
    {
     "name": "stderr",
     "output_type": "stream",
     "text": [
      "/usr/local/lib/python3.10/dist-packages/bitsandbytes/cuda_setup/main.py:145: UserWarning: WARNING: The following directories listed in your path were found to be non-existent: {PosixPath('vs/workbench/api/node/extensionHostProcess')}\n",
      "  warn(msg)\n",
      "/usr/local/lib/python3.10/dist-packages/bitsandbytes/cuda_setup/main.py:145: UserWarning: WARNING: The following directories listed in your path were found to be non-existent: {PosixPath('//matplotlib_inline.backend_inline'), PosixPath('module')}\n",
      "  warn(msg)\n",
      "/usr/local/lib/python3.10/dist-packages/bitsandbytes/cuda_setup/main.py:145: UserWarning: Found duplicate ['libcudart.so', 'libcudart.so.11.0', 'libcudart.so.12.0'] files: {PosixPath('/usr/local/cuda/lib64/libcudart.so'), PosixPath('/usr/local/cuda/lib64/libcudart.so.11.0')}.. We'll flip a coin and try one of these, in order to fail forward.\n",
      "Either way, this might cause trouble in the future:\n",
      "If you get `CUDA error: invalid device function` errors, the above might be the cause and the solution is to make sure only one ['libcudart.so', 'libcudart.so.11.0', 'libcudart.so.12.0'] in the paths that we search based on your env.\n",
      "  warn(msg)\n"
     ]
    }
   ],
   "source": [
    "from hyde_utils import *"
   ]
  },
  {
   "cell_type": "code",
   "execution_count": 2,
   "metadata": {},
   "outputs": [
    {
     "name": "stderr",
     "output_type": "stream",
     "text": [
      "Found cached dataset csv (/root/.cache/huggingface/datasets/csv/default-0968d8a1246c8167/0.0.0/6954658bab30a358235fa864b05cf819af0e179325c740e4bc853bcc7ec513e1)\n",
      "Loading cached processed dataset at /root/.cache/huggingface/datasets/csv/default-0968d8a1246c8167/0.0.0/6954658bab30a358235fa864b05cf819af0e179325c740e4bc853bcc7ec513e1/cache-b6f9a9c9d8a7a8fe.arrow\n",
      "Loading cached processed dataset at /root/.cache/huggingface/datasets/csv/default-0968d8a1246c8167/0.0.0/6954658bab30a358235fa864b05cf819af0e179325c740e4bc853bcc7ec513e1/cache-08b937466dd23944.arrow\n"
     ]
    },
    {
     "data": {
      "application/vnd.jupyter.widget-view+json": {
       "model_id": "8a22d855ba1b41adaef265804d11ed61",
       "version_major": 2,
       "version_minor": 0
      },
      "text/plain": [
       "  0%|          | 0/1 [00:00<?, ?it/s]"
      ]
     },
     "metadata": {},
     "output_type": "display_data"
    },
    {
     "name": "stdout",
     "output_type": "stream",
     "text": [
      "120836\n",
      "120836\n"
     ]
    }
   ],
   "source": [
    "\n",
    "dataset = load_dataset_hyde()\n",
    "encoder = get_hyde_encoder()\n",
    "\n",
    "dataset = process_dataset(dataset, encoder)\n",
    "\n",
    "\n"
   ]
  },
  {
   "cell_type": "code",
   "execution_count": 23,
   "metadata": {},
   "outputs": [
    {
     "name": "stdout",
     "output_type": "stream",
     "text": [
      "Consumables for Direct Fastening\n",
      " Intumescent Acoustic Mastic FiAM: Metallic pipes: 13\" (325 mm),Cable trays: 18\" x 2\" (450 x 50 mm),Cable bunches: 4\" (100 mm),Linear joints: flexible and rigid construction elements,Joints between FCPS coated panel system\n",
      "Consumables for Direct Fastening\n",
      " Intumescent Acoustic Mastic FiAM US: Linear joints: flexible and rigid construction elements with dynamic movement,Metallic pipes and ducts,Insulated metallic pipes,Conduits,Cable and cable bunches,Cable trays\n",
      "Fire Rated Silicone Sealant FFRS\n",
      " Rapid Fire Seal RFS 640: Curtain wall/slab edge: 8\" (200 mm),Head of wall: 4\" (100 mm),General construction joints: 8\" (200 mm),Cable tray: 24\" x 4\" (600 mm x 100 mm),Steel pipes: 8\" (200 mm)\n",
      "Fire I Barr ElastoSeal FFB-ES\n",
      " Universal FireStopping Sealant UFS: Metallic services: steel and cast iron 20“ (500 mm) - copper 6“ (150 mm),Non metallic service: PVC 2“ (51 mm open) 3“ (75 mm closed),Insulated service: 20“ (500 mm),Construction joints: 4“ (100 mm),HVAC 100“ (2500 mm),Cable bunches 4“ (100 mm): busway 27“ (686)\n",
      "Fire I Barr ElastoSeal FFB-ES\n",
      " Intumescent Graphite Mastic FiGM: Metallic pipes: 6\" (159 mm),Non-metallic pipes: 5\" (125 mm),Cable bunches: 1\" (21 mm),Insulated service: 6“ (159 mm),Construction joints: 1“ (25 mm),Mixed services\n",
      "Intumescent Pipe Wraps FiPW\n",
      " Intumescent Wrap Strip FiWS: Non-metallic service: PVC 14\" (355 mm), cPVC 8\" (203 mm), ABS 6\" (152 mm), FRPP 4\" (102 mm),Insulated service: Steel 10\" (254 mm), Iron 10\" (254 mm), Copper 4\" (102 mm), Glass fibre 3\" (75 mm), AB/PVC flexible foam 1\" (25 mm),Cable bunches: 3\" (76 mm)\n",
      "Cast-in Device FCID Plus\n",
      " Intumescent Pillows FiP: Metal pipes,Cables/cable trays,Electrical trunking,Electrical trunking: for conformance with the 17th Edition of the IEE Wiring Regulations (BS 7671:2008)\n",
      "Cavity FireStop Clad FCFcl\n",
      " FireStop Foam: Construction joints in walls and floors,Insulating and sealing doors and windows: non-fire rated application,Backfilling material only for service penetrations,Filling general voids and cavities: nonfire rated application\n",
      "Cavity FireStop Clad FCFcl\n",
      " Thermal Defense Wrap TDW: Metallic services with steel and cast iron pipes,General construction joints: wall to floor to head of wall,Drywall partitions, connections,FCPS joints\n"
     ]
    }
   ],
   "source": [
    "from collections import defaultdict\n",
    "applications = []\n",
    "bad_count = 0\n",
    "app_name_dict = defaultdict(list)\n",
    "for i in range(len(dataset)):\n",
    "    if \"Applications of a\" in dataset[i]['text']: \n",
    "        app_line = dataset[i]['text'].split(\"\\n\")[3].split(\"Applications of a\")[1]\n",
    "        try:\n",
    "            name, app_list = app_line.split(\":\")\n",
    "        except:\n",
    "            print(name)\n",
    "            print(app_line)\n",
    "            bad_count += 1\n",
    "            continue\n",
    "        name = name.strip()\n",
    "        app_list = [x.strip() for x in app_list.split(\",\")]\n",
    "        for app in app_list:\n",
    "            app_name_dict[app].append(name)"
   ]
  },
  {
   "cell_type": "code",
   "execution_count": 24,
   "metadata": {},
   "outputs": [
    {
     "data": {
      "text/plain": [
       "9"
      ]
     },
     "execution_count": 24,
     "metadata": {},
     "output_type": "execute_result"
    }
   ],
   "source": [
    "bad_count"
   ]
  },
  {
   "cell_type": "code",
   "execution_count": 28,
   "metadata": {},
   "outputs": [
    {
     "data": {
      "text/plain": [
       "830"
      ]
     },
     "execution_count": 28,
     "metadata": {},
     "output_type": "execute_result"
    }
   ],
   "source": [
    "len(app_name_dict)"
   ]
  },
  {
   "cell_type": "code",
   "execution_count": 35,
   "metadata": {},
   "outputs": [],
   "source": [
    "keys = list(app_name_dict.keys())\n",
    "for k in keys:\n",
    "    if len(app_name_dict[k]) < 2:\n",
    "        del app_name_dict[k]"
   ]
  },
  {
   "cell_type": "code",
   "execution_count": 36,
   "metadata": {},
   "outputs": [
    {
     "data": {
      "text/plain": [
       "291"
      ]
     },
     "execution_count": 36,
     "metadata": {},
     "output_type": "execute_result"
    }
   ],
   "source": [
    "len(app_name_dict)"
   ]
  },
  {
   "cell_type": "code",
   "execution_count": 66,
   "metadata": {},
   "outputs": [],
   "source": [
    "def convert_dict2context(d):\n",
    "    start_context = \"Application of products: \\n\"\n",
    "    for k in d:\n",
    "        current_line = \"\"\n",
    "        current_line += k \n",
    "        current_line += \":\"+\",\".join(d[k][:4])\n",
    "        start_context += current_line + \"\\n\"\n",
    "    return start_context"
   ]
  },
  {
   "cell_type": "code",
   "execution_count": 67,
   "metadata": {},
   "outputs": [],
   "source": [
    "q = \"Hi, I want to mount my TV on a wall, what would you recommend?\"\n",
    "filtered_dict = defaultdict(list)"
   ]
  },
  {
   "cell_type": "code",
   "execution_count": 68,
   "metadata": {},
   "outputs": [],
   "source": [
    "from fuzzywuzzy import fuzz\n",
    "scores = []\n",
    "for k in app_name_dict:\n",
    "    score = fuzz.partial_ratio(k, q)\n",
    "    scores.append((k, score)) "
   ]
  },
  {
   "cell_type": "code",
   "execution_count": 69,
   "metadata": {},
   "outputs": [],
   "source": [
    "scores = sorted(scores, key=lambda x: x[1], reverse=True)"
   ]
  },
  {
   "cell_type": "code",
   "execution_count": 70,
   "metadata": {},
   "outputs": [],
   "source": [
    "for k, score in scores[:20]:\n",
    "    filtered_dict[k] = app_name_dict[k]"
   ]
  },
  {
   "cell_type": "code",
   "execution_count": 71,
   "metadata": {},
   "outputs": [
    {
     "data": {
      "text/plain": [
       "defaultdict(list,\n",
       "            {'TV consoles': ['DuoPower',\n",
       "              'Universal plug UX',\n",
       "              'Universal plug UX Green',\n",
       "              'Expansion plug SX',\n",
       "              'Expansion plug SX Green',\n",
       "              'Frame fixing DuoXpand with countersunk head screw',\n",
       "              'Frame fixing DuoXpand with hexagon head screw',\n",
       "              'Frame fixing SXRL without safety screw',\n",
       "              'Frame fixing SXRL with countersunk head screw',\n",
       "              'Frame fixing SXRL with hexagon head screw',\n",
       "              'Frame fixing SXR without safety screw',\n",
       "              'Frame fixing SXR with countersunk head',\n",
       "              'Frame fixing SXR with hexagon head'],\n",
       "             'etc.': ['PowerFast FPF II CZP BC', 'PowerFast FPF II CZF BC'],\n",
       "             'Soft woods': ['Wood drill bit D-WS',\n",
       "              'Auger bit D-WL',\n",
       "              'Forstner drill bit D-WFo',\n",
       "              'Multi-hole saw HS-Multi'],\n",
       "             'as well as edge connections': ['Premium all-weather sealant DDK',\n",
       "              'Roof sealing compound DD'],\n",
       "             'Gates and doors': ['Frame fixing DuoXpand with countersunk head screw',\n",
       "              'Frame fixing DuoXpand with hexagon head screw',\n",
       "              'Frame fixing SXRL without safety screw',\n",
       "              'Frame fixing SXRL with countersunk head screw',\n",
       "              'Frame fixing SXRL with hexagon head screw',\n",
       "              'Frame fixing SXR without safety screw',\n",
       "              'Frame fixing SXR with countersunk head',\n",
       "              'Frame fixing SXR with hexagon head',\n",
       "              'Frame fixing FUR with countersunk head',\n",
       "              'Frame fixing FUR with hexagon head',\n",
       "              'Frame fixing S-H-R - without screw',\n",
       "              'Frame fixing S-H-R - hexagonal screw'],\n",
       "             'Wall cabinets': ['DuoPower', 'Frame fixing SXR with hook'],\n",
       "             'and FIS Green': ['Threaded rod RG M',\n",
       "              'Threaded rod FIS A',\n",
       "              'Injections anchor sleeve FIS H K'],\n",
       "             'Natural stone': ['Hammer drill bit Quattric II',\n",
       "              'Hammer drill bit SDS Plus II Pointer',\n",
       "              'Hammer drill bit SDS Max II / SDS Max IV',\n",
       "              'Hollow drill bit FHD',\n",
       "              'Concrete drill bit D-C',\n",
       "              'Stone drill bit D-S',\n",
       "              'Premium chisel FCP'],\n",
       "             'Mineral / glass wool': ['Insulation support DHK 45',\n",
       "              'Insulation support DHK',\n",
       "              'Insulation support DHM'],\n",
       "             'Solid brick': ['Hammer drill bit Quattric II',\n",
       "              'Hammer drill bit SDS Plus II Pointer',\n",
       "              'Hammer drill bit SDS Max II / SDS Max IV',\n",
       "              'Hollow drill bit FHD'],\n",
       "             'Sinter iron': ['Metal drill bit D-HSS-G',\n",
       "              'Metal drill bit D-HSS-R'],\n",
       "             'For metal parts to wood': ['PowerFast FPF II CZP BC',\n",
       "              'PowerFast FPF II CZF BC'],\n",
       "             'Sound barriers': ['Resin capsule RSB',\n",
       "              'Injection mortar FIS SB',\n",
       "              'Injection mortar FIS EM Plus'],\n",
       "             'manhole shafts': ['1c gun foam PUP S 750 B2',\n",
       "              '1c premium gun foam PUP BS 750 B2'],\n",
       "             'Hard wood (e.g. beech': ['Wood drill bit D-WS',\n",
       "              'Auger bit D-WL',\n",
       "              'Forstner drill bit D-WFo',\n",
       "              'Multi-hole saw HS-Multi'],\n",
       "             'and industry': ['TX star recess ProfiBit',\n",
       "              'PZ cross-slot ProfiBit',\n",
       "              'PH cross-slot ProfiBit'],\n",
       "             'Suspended mounting rails': ['Concrete screw UltraCut FBS II 6 US',\n",
       "              'Concrete screw UltraCut FBS II 6 SK',\n",
       "              'Concrete screw UltraCut FBS II 6 P / LP',\n",
       "              'Concrete screw UltraCut FBS II 6 M6 I, M8/M10 I',\n",
       "              'Concrete screw UltraCut FBS II 6 M8/M10'],\n",
       "             'Column bases': ['Cordless impact wrench FSS 18V 400 BL',\n",
       "              'Cordless impact wrench FSS 18V 600',\n",
       "              'Resin capsule RM II'],\n",
       "             'Tyre changes': ['Cordless impact wrench FSS 18V 400 BL',\n",
       "              'Cordless impact wrench FSS 18V 600'],\n",
       "             'wall connections and wall penetrations': ['1c premium installation foam PU 500/750',\n",
       "              '1c premium gun foam compact PUP 500 B2']})"
      ]
     },
     "execution_count": 71,
     "metadata": {},
     "output_type": "execute_result"
    }
   ],
   "source": [
    "filtered_dict"
   ]
  },
  {
   "cell_type": "code",
   "execution_count": 72,
   "metadata": {},
   "outputs": [],
   "source": [
    "c = convert_dict2context(filtered_dict)"
   ]
  },
  {
   "cell_type": "code",
   "execution_count": 73,
   "metadata": {},
   "outputs": [
    {
     "data": {
      "text/plain": [
       "'Application of products: \\nTV consoles:DuoPower,Universal plug UX,Universal plug UX Green,Expansion plug SX\\netc.:PowerFast FPF II CZP BC,PowerFast FPF II CZF BC\\nSoft woods:Wood drill bit D-WS,Auger bit D-WL,Forstner drill bit D-WFo,Multi-hole saw HS-Multi\\nas well as edge connections:Premium all-weather sealant DDK,Roof sealing compound DD\\nGates and doors:Frame fixing DuoXpand with countersunk head screw,Frame fixing DuoXpand with hexagon head screw,Frame fixing SXRL without safety screw,Frame fixing SXRL with countersunk head screw\\nWall cabinets:DuoPower,Frame fixing SXR with hook\\nand FIS Green:Threaded rod RG M,Threaded rod FIS A,Injections anchor sleeve FIS H K\\nNatural stone:Hammer drill bit Quattric II,Hammer drill bit SDS Plus II Pointer,Hammer drill bit SDS Max II / SDS Max IV,Hollow drill bit FHD\\nMineral / glass wool:Insulation support DHK 45,Insulation support DHK,Insulation support DHM\\nSolid brick:Hammer drill bit Quattric II,Hammer drill bit SDS Plus II Pointer,Hammer drill bit SDS Max II / SDS Max IV,Hollow drill bit FHD\\nSinter iron:Metal drill bit D-HSS-G,Metal drill bit D-HSS-R\\nFor metal parts to wood:PowerFast FPF II CZP BC,PowerFast FPF II CZF BC\\nSound barriers:Resin capsule RSB,Injection mortar FIS SB,Injection mortar FIS EM Plus\\nmanhole shafts:1c gun foam PUP S 750 B2,1c premium gun foam PUP BS 750 B2\\nHard wood (e.g. beech:Wood drill bit D-WS,Auger bit D-WL,Forstner drill bit D-WFo,Multi-hole saw HS-Multi\\nand industry:TX star recess ProfiBit,PZ cross-slot ProfiBit,PH cross-slot ProfiBit\\nSuspended mounting rails:Concrete screw UltraCut FBS II 6 US,Concrete screw UltraCut FBS II 6 SK,Concrete screw UltraCut FBS II 6 P / LP,Concrete screw UltraCut FBS II 6 M6 I, M8/M10 I\\nColumn bases:Cordless impact wrench FSS 18V 400 BL,Cordless impact wrench FSS 18V 600,Resin capsule RM II\\nTyre changes:Cordless impact wrench FSS 18V 400 BL,Cordless impact wrench FSS 18V 600\\nwall connections and wall penetrations:1c premium installation foam PU 500/750,1c premium gun foam compact PUP 500 B2\\n'"
      ]
     },
     "execution_count": 73,
     "metadata": {},
     "output_type": "execute_result"
    }
   ],
   "source": [
    "c"
   ]
  },
  {
   "cell_type": "code",
   "execution_count": 49,
   "metadata": {},
   "outputs": [
    {
     "name": "stderr",
     "output_type": "stream",
     "text": [
      "The tokenizer class you load from this checkpoint is not the same type as the class this function is called from. It may result in unexpected tokenization. \n",
      "The tokenizer class you load from this checkpoint is 'LLaMATokenizer'. \n",
      "The class this function is called from is 'LlamaTokenizer'.\n"
     ]
    }
   ],
   "source": [
    "from transformers import LlamaTokenizer, LlamaForCausalLM\n",
    "\n",
    "tokenizer = LlamaTokenizer.from_pretrained(\"decapoda-research/llama-7b-hf\")"
   ]
  },
  {
   "cell_type": "code",
   "execution_count": 74,
   "metadata": {},
   "outputs": [
    {
     "data": {
      "text/plain": [
       "778"
      ]
     },
     "execution_count": 74,
     "metadata": {},
     "output_type": "execute_result"
    }
   ],
   "source": [
    "len(tokenizer(c)['input_ids'])"
   ]
  },
  {
   "cell_type": "code",
   "execution_count": null,
   "metadata": {},
   "outputs": [],
   "source": []
  }
 ],
 "metadata": {
  "kernelspec": {
   "display_name": "Python 3",
   "language": "python",
   "name": "python3"
  },
  "language_info": {
   "codemirror_mode": {
    "name": "ipython",
    "version": 3
   },
   "file_extension": ".py",
   "mimetype": "text/x-python",
   "name": "python",
   "nbconvert_exporter": "python",
   "pygments_lexer": "ipython3",
   "version": "3.10.10"
  },
  "orig_nbformat": 4
 },
 "nbformat": 4,
 "nbformat_minor": 2
}
